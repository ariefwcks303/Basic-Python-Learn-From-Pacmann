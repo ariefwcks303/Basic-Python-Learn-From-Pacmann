{
  "nbformat": 4,
  "nbformat_minor": 0,
  "metadata": {
    "colab": {
      "provenance": [],
      "toc_visible": true,
      "authorship_tag": "ABX9TyP4gfItijuuqqdSjsQLVFMs",
      "include_colab_link": true
    },
    "kernelspec": {
      "name": "python3",
      "display_name": "Python 3"
    },
    "language_info": {
      "name": "python"
    }
  },
  "cells": [
    {
      "cell_type": "markdown",
      "metadata": {
        "id": "view-in-github",
        "colab_type": "text"
      },
      "source": [
        "<a href=\"https://colab.research.google.com/github/ariefwcks303/Basic-Python-Learn-From-Pacmann/blob/main/Boolean_Operator_%26_Boolean_Logic.ipynb\" target=\"_parent\"><img src=\"https://colab.research.google.com/assets/colab-badge.svg\" alt=\"Open In Colab\"/></a>"
      ]
    },
    {
      "cell_type": "markdown",
      "source": [
        "#**Summary Boolean Operator & Boolean Logic**\n",
        "- Boolean adalah salah satu tipe data yang ada di dalam bahasa pemrograman Python.\n",
        "\n",
        "- Tipe data Boolean merepresentasikan salah satu dari dua nilai logika yaitu True atau False.\n",
        "\n",
        "- Fungsi dari Boolean itu sendiri secara umum adalah untuk mengetahui kebenaran dalam suatu ekspresi apakah bernilai True atau False."
      ],
      "metadata": {
        "id": "_eXgM3uO6EGq"
      }
    },
    {
      "cell_type": "markdown",
      "source": [
        "##Boolean Operations"
      ],
      "metadata": {
        "id": "vfc9t-ZY6ELl"
      }
    },
    {
      "cell_type": "markdown",
      "source": [
        "Operator  Equality\n",
        "Operator Equality adalah operator yang berfungsi untuk memeriksa **kesamaan** atau **ketidaksamaan** nilai satu dengan yang lain.\n",
        "\n",
        "| Operator  | Arti              |Penggunaa dalam Python|\n",
        "|-----------|-------------------|----------------------|\n",
        "| ==        | **sama** dengan       |var_1 == var_2|\n",
        "| !=        | **tidak sama** dengan |var_1 != var_2|\n",
        "\n",
        "\n",
        "Operator Comparsion adalah operator yang berfungsi untuk **komparasi** nilai satu dengan yang lain.\n",
        "\n",
        "| Operator  | Arti                         |Penggunaan dalam Python|\n",
        "|-----------|------------------------------|-----------------------|\n",
        "| <         | **lebih kecil** dari             |var_1 < var_2      |\n",
        "| >         |**lebih besar** dari              |var_1 > var_2      |\n",
        "| <=        |**lebih kecil** atau **sama dengan**  |var_1 <= var_2 |\n",
        "| >=        | **lebih besar** atau **sama dengan** |var_1 >= var_2 |\n"
      ],
      "metadata": {
        "id": "p8BNtqJq6EOM"
      }
    },
    {
      "cell_type": "markdown",
      "source": [
        "##**Boolean Logic**\n",
        "terdapat tiga operasi logic dasar boolean yaitu:\n",
        "\n",
        "- AND\n",
        "- OR\n",
        "- NOT"
      ],
      "metadata": {
        "id": "8nPFX8Oz6EQr"
      }
    },
    {
      "cell_type": "markdown",
      "source": [
        "###**AND**\n",
        "Secara sederhana, and memiliki karakteristik sebagai berikut:\n",
        "\n",
        "- Nilai TRUE hanya bisa diperoleh jika dua nilai bernilai TRUE\n",
        "- Secara fisik adalah irisan antara dua kondisi.\n",
        "\n",
        "\n",
        "Truth table:\n",
        "\n",
        "| A | B | A and B  | Arti|\n",
        "|-------------|-------------|------|-----\n",
        "| True        | True        | True |Jika A bernilai True **Dan** B bernilai True maka outputnya **True**\n",
        "| True        | False       | False|Jika A bernilai True **Dan** B bernilai False maka outputnya **False**\n",
        "| False       | True        | False|Jika A bernilai False **Dan** B bernilai True maka outputnya **False**\n",
        "| False       | False       | False|Jika A bernilai False **Dan** B bernilai False maka outputnya False"
      ],
      "metadata": {
        "id": "VXN6GQuu6ETM"
      }
    },
    {
      "cell_type": "markdown",
      "source": [
        "###**NOT**\n",
        "Secara sederhana, `not` memiliki karakteristik sebagai berikut:\n",
        "* Merupakan negasi dari nilai sebelumnya.\n",
        "* Negasi adalah penyangkalan atau peniadaan dari suatu pernyataan.\n",
        "* Jika nilai sebelumnya adalah `TRUE`, maka akan menghasilkan `False` dan sebaliknya.\n",
        "\n",
        "Truth table\n",
        "\n",
        "| Condition | NOT   |\n",
        "|-----------|-------|\n",
        "| TRUE      | FALSE |\n",
        "| FALSE     | TRUE  |\n",
        "\n"
      ],
      "metadata": {
        "id": "vLz4JKXq6EVm"
      }
    },
    {
      "cell_type": "markdown",
      "source": [
        "###**OR**\n",
        "Truth table:\n",
        "\n",
        "| A | B | A or B  | Arti|\n",
        "|-------------|-------------|------|-----\n",
        "| True        | True        | True |Jika nilai A True **Atau** nilai B True maka outputnya True\n",
        "| True        | False       | True|Jika nilai A True **Atau** nilai B False maka outputnya True\n",
        "| False       | True        | True|Jika nilai A False **Atau** nilai B True maka outputnya True\n",
        "| False       | False       | False|Jika nilai A False **Atau** nilai B False maka outputnya False"
      ],
      "metadata": {
        "id": "14JR4rMx6EX_"
      }
    },
    {
      "cell_type": "markdown",
      "source": [
        "##**Case Study 1 : Membuat Fitur Voucher pada Aplikasi**\n",
        "----------------------------------------------------------------------\n",
        "Start Up ditempat Haris bekerja dengan timnya sedang melakukan pengujian testing aplikasinya pada fitur dalam mendapatkan voucher belanja untuk user  \n",
        "\n",
        "| Jenis Voucher        |Nama variabel    |Tipe Data|\n",
        "|----------------------|-----------------|---------|\n",
        "|Voucher Gratis Ongkir |get_free_shipping|Boolean  |\n",
        "|Voucher Cashback      |get_cashback     |Boolean  |\n",
        "|Voucher Potongan Harga|get_discount     |Boolean  |\n",
        "|Voucher Pengguna Baru |get_newuser      |Boolean  |\n",
        "\n",
        "Terdapat beberapa user jenis yang mendapatkan voucher:\n",
        "1. Pengguna baru mendapatkan voucher pengguna baru saja\n",
        "2. Pengguna lama yang mendapatkan voucher gratis ongkir saja\n",
        "3. pengguna lama yang mendapatkan voucher potongan harga saja\n",
        "4. pengguna lama yang membeli barang mahal mendapatkan voucher gratis ongkir,cashback\n",
        "5. pengguna lama yang membeli barang mahal mendapatkan voucher gratis ongkir, voucher cashback dan potongan harga\n",
        "\n",
        "semua pengguna harus menggunakan semua variabel yang berada pada tabel"
      ],
      "metadata": {
        "id": "t7WxVOAl6Eas"
      }
    },
    {
      "cell_type": "markdown",
      "source": [
        "### **Problem 1A**\n",
        "Buatlah variabel yang sesuai dengan pengguna baru mendapatkan voucher pengguna baru saja"
      ],
      "metadata": {
        "id": "8-gh6H9-6Edu"
      }
    },
    {
      "cell_type": "code",
      "source": [
        "get_free_shipping = False\n",
        "get_cashback = False\n",
        "get_discount = False\n",
        "get_newuser = True"
      ],
      "metadata": {
        "id": "RaXYc1dh-a01"
      },
      "execution_count": 1,
      "outputs": []
    },
    {
      "cell_type": "markdown",
      "source": [
        "###**Problem 1B**\n",
        "Buatlah variabel pengguna lama yang mendapatkan voucher gratis ongkir saja"
      ],
      "metadata": {
        "id": "IyB7YUWU6Ehy"
      }
    },
    {
      "cell_type": "code",
      "source": [
        "get_free_shipping = True\n",
        "get_cashback = False\n",
        "get_discount = False\n",
        "get_newuser = False"
      ],
      "metadata": {
        "id": "9vcheuxF-oWY"
      },
      "execution_count": null,
      "outputs": []
    },
    {
      "cell_type": "markdown",
      "source": [
        "###**Problem 1C**\n",
        "Buatlah variabel pengguna lama yang mendapatkan voucher potongan harga saja"
      ],
      "metadata": {
        "id": "ltSqklp1-vkG"
      }
    },
    {
      "cell_type": "code",
      "source": [
        "get_free_shipping = False\n",
        "get_cashback = False\n",
        "get_discount = True\n",
        "get_newuser = False"
      ],
      "metadata": {
        "id": "XdNdpF80-yUy"
      },
      "execution_count": null,
      "outputs": []
    },
    {
      "cell_type": "markdown",
      "source": [
        "###**Problem 1D**\n",
        "Buatlah variabel pengguna lama yang membeli barang mahal mendapatkan voucher gratis ongkir,cashback"
      ],
      "metadata": {
        "id": "OwFghTP_-yGe"
      }
    },
    {
      "cell_type": "code",
      "source": [
        "get_free_shipping = True\n",
        "get_cashback = True\n",
        "get_discount = False\n",
        "get_newuser = False"
      ],
      "metadata": {
        "id": "DD04HPtR--SP"
      },
      "execution_count": null,
      "outputs": []
    },
    {
      "cell_type": "markdown",
      "source": [
        "### **Problem 1E**\n",
        "Buatlah variabel pengguna lama yang membeli barang mahal mendapatkan voucher gratis ongkir, voucher cashback dan potongan harga"
      ],
      "metadata": {
        "id": "CX8NdXwJ_GbJ"
      }
    },
    {
      "cell_type": "code",
      "source": [
        "get_free_shipping = True\n",
        "get_cashback = True\n",
        "get_discount = True\n",
        "get_newuser = False"
      ],
      "metadata": {
        "id": "g5JDYMM9_Jn4"
      },
      "execution_count": null,
      "outputs": []
    },
    {
      "cell_type": "markdown",
      "source": [
        "##**Case Study 2 : Membuat Fitur Bonus di Coffee Shop**\n",
        "\n",
        "Di coffee shop yang baru milik Andi menerapkan beberapa fitur bonus kepada customer dengan syarat ketentuan tertentu. Berikut komponen variabel yang dibutuhkan\n",
        "\n",
        "|Nama komponen           |Nama Variabel    |Tipe Data|\n",
        "|------------------------|-----------------|---------|\n",
        "|Code Kupon              |coupon_code      |string   |\n",
        "|Minimal transaksi diskon|min_purchase     |float    |\n",
        "|Minimal Pembelian Produk|min_product     |integer  |\n",
        "\n",
        "Terdapat beberapa testing menggunakan variabel untuk suatu kondisi sebagai berikut:\n"
      ],
      "metadata": {
        "id": "d1IzhAU3_Nl5"
      }
    },
    {
      "cell_type": "markdown",
      "source": [
        "### **Problem 2A**\n",
        "Bandingkan Code Kupon \"RT9313JT\" apakah sama dengan coupon di database yang dengan nilai RT9313JT"
      ],
      "metadata": {
        "id": "7mXii4r1_NoL"
      }
    },
    {
      "cell_type": "code",
      "source": [
        "kupon = \"RT9313JT\"\n",
        "print(kupon == \"RT9313JT\")"
      ],
      "metadata": {
        "colab": {
          "base_uri": "https://localhost:8080/"
        },
        "id": "QpAGgSj5_oOf",
        "outputId": "147f8f4d-4d84-49c1-fb92-88800ec64251"
      },
      "execution_count": 3,
      "outputs": [
        {
          "output_type": "stream",
          "name": "stdout",
          "text": [
            "False\n"
          ]
        }
      ]
    },
    {
      "cell_type": "markdown",
      "source": [
        "###**Problem 2B**\n",
        "Code Kupon \"JR7431LR\" tidak sama dengan coupun di database dengan nilai JR7430LR"
      ],
      "metadata": {
        "id": "D0wqcO3w_Nqj"
      }
    },
    {
      "cell_type": "code",
      "source": [
        "kupon = \"JR7431LR\"\n",
        "print(kupon != \"JR7430LR\")"
      ],
      "metadata": {
        "colab": {
          "base_uri": "https://localhost:8080/"
        },
        "id": "_cyleCxp_4q8",
        "outputId": "9938f49f-d253-4128-9d9c-110a1b0ee0ae"
      },
      "execution_count": 5,
      "outputs": [
        {
          "output_type": "stream",
          "name": "stdout",
          "text": [
            "True\n"
          ]
        }
      ]
    },
    {
      "cell_type": "markdown",
      "source": [
        "### **Problem 2C**\n",
        "Minimal transaksi diskon bernilai 70000.50 lebih besar sama dengan 50.000"
      ],
      "metadata": {
        "id": "XwP1yZG4_NtE"
      }
    },
    {
      "cell_type": "code",
      "source": [
        "min_purchase = 70000.50\n",
        "print(min_purchase >= 50000)"
      ],
      "metadata": {
        "colab": {
          "base_uri": "https://localhost:8080/"
        },
        "id": "lFyOu7TpAr7G",
        "outputId": "6716620c-4115-4c28-e364-c5270783f11c"
      },
      "execution_count": 6,
      "outputs": [
        {
          "output_type": "stream",
          "name": "stdout",
          "text": [
            "True\n"
          ]
        }
      ]
    },
    {
      "cell_type": "markdown",
      "source": [
        "### **Problem 2D**\n",
        "Minimal pembelian produk sebanyak 7 lebih besar dari 3\n"
      ],
      "metadata": {
        "id": "DDCePwiD_NzY"
      }
    },
    {
      "cell_type": "code",
      "source": [
        "min_buy = 7\n",
        "print(min_buy > 3)"
      ],
      "metadata": {
        "colab": {
          "base_uri": "https://localhost:8080/"
        },
        "id": "J-7sJfz6A104",
        "outputId": "f892fbfd-d206-4381-9280-c4dac7bf14f5"
      },
      "execution_count": 7,
      "outputs": [
        {
          "output_type": "stream",
          "name": "stdout",
          "text": [
            "True\n"
          ]
        }
      ]
    },
    {
      "cell_type": "markdown",
      "source": [
        "### **Problem 2E**\n",
        "Minimal transaksi diskon bernilai 30000.99 lebih besar sama dengan 50.000\n"
      ],
      "metadata": {
        "id": "dsbKcIkm_N1w"
      }
    },
    {
      "cell_type": "code",
      "source": [
        "min_transaction = 30000.99\n",
        "print(min_transaction >= 50000)"
      ],
      "metadata": {
        "colab": {
          "base_uri": "https://localhost:8080/"
        },
        "id": "WfpjbWI9BAxJ",
        "outputId": "a0f1de91-43a6-4bdc-a03a-5a7ba1977205"
      },
      "execution_count": 8,
      "outputs": [
        {
          "output_type": "stream",
          "name": "stdout",
          "text": [
            "False\n"
          ]
        }
      ]
    },
    {
      "cell_type": "markdown",
      "source": [
        "### **Problem 2F**\n",
        "Minimal pembelian produk sebanyak 2 lebih besar dari 3"
      ],
      "metadata": {
        "id": "xXBQ2S1M_N6c"
      }
    },
    {
      "cell_type": "code",
      "source": [
        "min_buy = 2\n",
        "print(min_buy > 3)"
      ],
      "metadata": {
        "colab": {
          "base_uri": "https://localhost:8080/"
        },
        "id": "hMEkKDlxBuHb",
        "outputId": "a7f33573-50ff-40f8-988c-4878ac47b9e5"
      },
      "execution_count": 9,
      "outputs": [
        {
          "output_type": "stream",
          "name": "stdout",
          "text": [
            "False\n"
          ]
        }
      ]
    },
    {
      "cell_type": "markdown",
      "source": [
        "## **Case Study 3 : Membuat Sitem Rekomendasi Beasiswa Mahasiswa**\n",
        "----------------------------------------------------------------------\n",
        "Disebuah kampus menerapkan sistem rekomendasi untuk mahasiwa yang mendapatkan beasiswa dengan kriteria yang ditentukan untuk mahasiwa semester 3 sebagai berikut :\n",
        "1. Mahasiswa dengan Indeks prestasi atau IP minimal lebih dari atau sama dengan 3.5 ditiap semesternya\n",
        "2. Mahasiswa dengan jika mendapatkan prestasi sesuai dengan bidang studi, IP tidak memengaruhi\n",
        "3. Mahasiswa dengan mendapatkan prestasi dalam olahraga, harus memiliki IP minimal lebih dari atau sama dengan 3.5 minimal 1 semester\n",
        "\n",
        "Berikut ketentuan variabel yang harus di gunakan:\n",
        "\n",
        "|Nama                    |Nama Variabel    |Tipe Data|\n",
        "|------------------------|-----------------|---------|\n",
        "|IP Semester 1           |ip_smt_1         |float    |\n",
        "|IP Semester 2           |ip_smt_2         |float    |\n",
        "|Prestasi Bidang Studi   |get_prestasi_bs  |boolean  |\n",
        "|Prestasi Olahraga       |get_prestasi_ol  |boolean  |\n",
        "\n",
        "Jika Output True maka ia Mendapatkan beasiswa, jika False tidak mendapatkan beasiwa\n",
        "\n",
        "Buatlah operasi boolean logic berikut:\n"
      ],
      "metadata": {
        "id": "GeDD_dtk_N86"
      }
    },
    {
      "cell_type": "markdown",
      "source": [
        "### **Problem 3A**\n",
        "Kandidat pertama mendapatkan beasiswa dengan memiliki IP 3.5 ditiap semesternya (semester 1 & semester 2) maka buatlah boolean logic yang menggambarkan apakah ia berhak mendapatkan beasiswa"
      ],
      "metadata": {
        "id": "Qpm6bZxS_N_V"
      }
    },
    {
      "cell_type": "code",
      "source": [
        "ip_smt_1 = 3.5\n",
        "ip_smt_2 = 3.5\n",
        "\n",
        "ip_smt_1 >= 3.5 and ip_smt_2 >= 3.5"
      ],
      "metadata": {
        "colab": {
          "base_uri": "https://localhost:8080/"
        },
        "id": "9nNDGg5cHHgy",
        "outputId": "8e27e82d-5a4c-4cb4-93fa-5b42b3328b8e"
      },
      "execution_count": 10,
      "outputs": [
        {
          "output_type": "execute_result",
          "data": {
            "text/plain": [
              "True"
            ]
          },
          "metadata": {},
          "execution_count": 10
        }
      ]
    },
    {
      "cell_type": "markdown",
      "source": [
        "### **Problem 3B**\n",
        "Kandidat kedua mendapatkan beasiswa dengan nilai IP semester 1 yaitu 3.2, IP semester 2 yaitu 2.8,dan mendapatkan prestasi bidang studi"
      ],
      "metadata": {
        "id": "h_jTkrR9_OBs"
      }
    },
    {
      "cell_type": "code",
      "source": [
        "ip_smt_1 = 3.2\n",
        "ip_smt_2 = 2.8\n",
        "get_prestasi_bs = True\n",
        "\n",
        "ip_smt_1 >= 3.5 or ip_smt_2 >= 3.5 or get_prestasi_bs == True"
      ],
      "metadata": {
        "colab": {
          "base_uri": "https://localhost:8080/"
        },
        "id": "X-5V8vxpHVH_",
        "outputId": "7e820c31-f009-4307-ff5f-0de9392e1274"
      },
      "execution_count": 16,
      "outputs": [
        {
          "output_type": "execute_result",
          "data": {
            "text/plain": [
              "True"
            ]
          },
          "metadata": {},
          "execution_count": 16
        }
      ]
    },
    {
      "cell_type": "markdown",
      "source": [
        "### **Problem 3C**\n",
        "Kandidat ketiga mendapatkan beasiswa dengan prestasi di bidang olahraga, dengan nilai IP semester 1 yaitu 3.0 dan nilai IP semester 2 yaitu 3.6"
      ],
      "metadata": {
        "id": "j4BQqB-y_OEG"
      }
    },
    {
      "cell_type": "code",
      "source": [
        "ip_smt_1 = 3.0\n",
        "ip_smt_2 = 3.6\n",
        "get_prestasi_ol = True\n",
        "\n",
        "ip_smt_1 >= 3.5 or ip_smt_2 >= 3.5 and get_prestasi_ol == True"
      ],
      "metadata": {
        "colab": {
          "base_uri": "https://localhost:8080/"
        },
        "id": "lPGAOV7mHqGo",
        "outputId": "ff6709a4-82c4-4945-d6c6-64e5ab06d7ba"
      },
      "execution_count": 18,
      "outputs": [
        {
          "output_type": "execute_result",
          "data": {
            "text/plain": [
              "True"
            ]
          },
          "metadata": {},
          "execution_count": 18
        }
      ]
    },
    {
      "cell_type": "markdown",
      "source": [
        "### **Problem 3D**\n",
        "Kandidat keempat tidak mendapatkan beasiswa, dengan nilai IP semester 1 yaitu 3.0 dan nilai IP semester 2 yaitu 3.49 meskipun dengan prestasi di bidang olahraga"
      ],
      "metadata": {
        "id": "KLLQi7Vl_OGi"
      }
    },
    {
      "cell_type": "code",
      "source": [
        "ip_smt_1 = 3.0\n",
        "ip_smt_2 = 3.49\n",
        "get_prestasi_ol = True\n",
        "\n",
        "ip_smt_1 >= 3.5 or ip_smt_2 >= 3.5 and get_prestasi_ol == True"
      ],
      "metadata": {
        "colab": {
          "base_uri": "https://localhost:8080/"
        },
        "id": "GKSddTEPIc_x",
        "outputId": "26d84d0a-8bc5-4aac-b14a-6c5612a3c37d"
      },
      "execution_count": 21,
      "outputs": [
        {
          "output_type": "execute_result",
          "data": {
            "text/plain": [
              "False"
            ]
          },
          "metadata": {},
          "execution_count": 21
        }
      ]
    },
    {
      "cell_type": "markdown",
      "source": [
        "### **Problem 3E**\n",
        "Kandidat kelima dengan nilai IP semester 1 yaitu 2.9 dan nilai IP semester 2 yaitu 3.2 namun terdiskualifikasi dikarnakan mahasiswa melampirkan sertifikat prestasi palsu. (tambahkan **not** pada get_prestasi_bs pada operasi boolean logic)"
      ],
      "metadata": {
        "id": "t-W4CukZIxR0"
      }
    },
    {
      "cell_type": "code",
      "source": [
        "ip_smt_1 = 2.9\n",
        "ip_smt_2 = 3.2\n",
        "get_prestasi_ol = False\n",
        "get_prestasi_bs = False\n",
        "\n",
        "ip_smt_1 >= 3.5 or ip_smt_2 >= 3.5 or not get_prestasi_bs == True"
      ],
      "metadata": {
        "colab": {
          "base_uri": "https://localhost:8080/"
        },
        "id": "hx9zahcdJGeg",
        "outputId": "7831d8f8-10d3-4690-e4f2-1f9481f19f56"
      },
      "execution_count": 23,
      "outputs": [
        {
          "output_type": "execute_result",
          "data": {
            "text/plain": [
              "True"
            ]
          },
          "metadata": {},
          "execution_count": 23
        }
      ]
    }
  ]
}