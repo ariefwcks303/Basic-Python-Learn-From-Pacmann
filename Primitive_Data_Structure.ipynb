{
  "nbformat": 4,
  "nbformat_minor": 0,
  "metadata": {
    "colab": {
      "provenance": [],
      "toc_visible": true,
      "authorship_tag": "ABX9TyMwTw6gyTslAR8TEzLiBgnT",
      "include_colab_link": true
    },
    "kernelspec": {
      "name": "python3",
      "display_name": "Python 3"
    },
    "language_info": {
      "name": "python"
    }
  },
  "cells": [
    {
      "cell_type": "markdown",
      "metadata": {
        "id": "view-in-github",
        "colab_type": "text"
      },
      "source": [
        "<a href=\"https://colab.research.google.com/github/ariefwcks303/Basic-Python-Learn-From-Pacmann/blob/main/Primitive_Data_Structure.ipynb\" target=\"_parent\"><img src=\"https://colab.research.google.com/assets/colab-badge.svg\" alt=\"Open In Colab\"/></a>"
      ]
    },
    {
      "cell_type": "markdown",
      "source": [
        "# **Pertemuan 2 - Primitive Data Structure**"
      ],
      "metadata": {
        "id": "XHMcDble76AL"
      }
    },
    {
      "cell_type": "markdown",
      "source": [
        "##Outline\n",
        "\n",
        "1. Review\n",
        "2. Case 1 - Menghitung Gaji Karyawan\n",
        "3. Case 2 - Menghitung Pajak Kendaraan\n",
        "4. Case 3 - Edit Hasil Scrapping Media Sosial\n",
        "5. Case 4 - Percetakan Banner"
      ],
      "metadata": {
        "id": "GCDesj3p76C7"
      }
    },
    {
      "cell_type": "markdown",
      "source": [
        "##**Review**\n",
        "\n",
        "---\n",
        "\n",
        "\n",
        "\n",
        "Materi yang sudah anda pelajari pada video learning Primitive Data Type adalah sebagai berikut:\n",
        "\n",
        "  1. integer - bilangan bulat\n",
        "  2. float - bilangan desimal\n",
        "  3. string - karakter yang di definisikan dengan tanda kutip\n",
        "  4. bolean (tidak dipelajari di materi ini)\n",
        "Cara untuk cek tipe data pada python bisa dengan syntax type(VALUE)\n",
        "\n",
        "---\n",
        "\n",
        "\n",
        "\n",
        "Jika dalam satu ekspresi matematika terdapat lebih dari satu operasi, maka harus di selesaikan berdasarkan operasi yang lebih tinggi prioritasnya. Untuk lebih mudah mengingat aturan ini bisa menggunakan akronim PEMDAS.\n",
        "\n",
        "- Parentheses -- ()\n",
        "- Exponentiation -- **\n",
        "- Multiplication -- *\n",
        "- Division -- /\n",
        "- Addition -- +\n",
        "- Substraction -- -\n",
        "\n",
        "---\n",
        "\n",
        "\n",
        "String adalah kumpulan huruf kata atau karakter lain. Pada Python, string didefinisikan dengan tanda kutip (\"\"). Tipe data string juga memiliki operator, operator yang sering digunakan di antaranya\n",
        "\n",
        "- Concatenation\n",
        "- Repetition\n",
        "- Slicing\n",
        "\n",
        "\n",
        "String di Python juga memiliki beberapa method atau fungsi. method yang sering digunakan diantaranya :\n",
        "\n",
        "- len()\n",
        "- upper()\n",
        "- lower()\n",
        "- count()\n",
        "- find()\n",
        "- replace()\n",
        "- capitalize()\n",
        "- title()"
      ],
      "metadata": {
        "id": "aPetIHzA76F3"
      }
    },
    {
      "cell_type": "markdown",
      "source": [
        "**TAMBAHAN**\n",
        "\n",
        "**Casting Variabel:**\n",
        "\n",
        "Casting variabel adalah membangun atau mengubah sebuah variabel dari tipe data lain menjadi tipe data yang kita inginkan\n",
        "\n",
        "Contoh:\n",
        "\n",
        "string_1 = \"46.7\"\n",
        "\n",
        "Kita akan mengubah variabel string_1 di atas menjadi tipe data float. Caranya:\n",
        "\n",
        " - numb_float = float(string_1)\n",
        " - print(type(numb_float))\n",
        " - output: class 'float'\n",
        "\n",
        "\n",
        "Variabel numb_float tersebut juga bisa kita ubah menjadi tipe data integer. Caranya:\n",
        "\n",
        "- numb_float = 46.7\n",
        "- numb_int=int(46.7)\n",
        "- print(type(numb_int))\n",
        "- output: class 'int'\n",
        "\n",
        "Untuk tipe data string, caranya juga berlaku seperti cara sebelumnya\n",
        "\n",
        "- numb_int = 46\n",
        "- string_2 = str(numb_int)\n",
        "- print(type(string_2))\n",
        "- output:class 'str'\n",
        "\n",
        "\n",
        "**Limiting Float Decimal Point**\n",
        "\n",
        "Jika kita berhadapan dengan tipe data float dengan angka di belakang koma yang banyak, kita bisa menyederhanakan jumlah angkanya menjadi yang kita inginkan.\n",
        "\n",
        "Cara pertama bisa menggunakan method round(). Method ini akan membulatkan bilangan dibelakang koma menjadi yang kita inginkan.\n",
        "\n",
        "contoh:\n",
        "\n",
        "- numb_1 = 14.33733\n",
        "- round_num = round(num_1, 2) # 2 disini merupakan jumlah angka di belakang koma\n",
        "- print(round_num)\n",
        "- output=14.34\n",
        "\n",
        "\n",
        "Jika menggunakan f-string, kita bisa lebih mudah menggunakan sintaks (.2f). Sintaks tersebut akan membulatkan dua angka di belakang koma. Angka 2 tersebut bisa anda ganti dengan berapapun angka yang kita inginkan\n",
        "\n",
        "Contoh:\n",
        "\n",
        "- numb_2 = 14.33733\n",
        "- print(f\"angka = {numb_2: .2f}\")\n",
        "- output = 14.34"
      ],
      "metadata": {
        "id": "0WlMrflT76Id"
      }
    },
    {
      "cell_type": "code",
      "source": [],
      "metadata": {
        "id": "-JKYxr2a-JOh"
      },
      "execution_count": null,
      "outputs": []
    },
    {
      "cell_type": "markdown",
      "source": [
        "##Case Study 1: Menghitung Gaji Karyawan"
      ],
      "metadata": {
        "id": "2QD5PtKB-ci9"
      }
    },
    {
      "cell_type": "markdown",
      "source": [
        "Pak Bakir adalah seorang manager di sebuah Perusahaan B. Beliau ingin menghitung gaji karyawannya selama satu bulan secara keseluruhan. Daftar karyawan Pak Bakir ada di bawah ini.\n",
        "\n",
        "|No|Nama|Jam Kerja|Jam Lembur | Upah Kerja (Kotor) | Upah Lembur | Total Upah | Pajak | Total Upah (Netto)\n",
        "|----|---|---|---|---|---|---|---|---|\n",
        "|1|Joko|44|12|\n",
        "|2|Alex | 48 | 11 |\n",
        "|3|Chandra | 50 | 10 |\n",
        "|4|Hartono | 42 | 15 |\n",
        "|5|Samsul | 45 | 12 |\n"
      ],
      "metadata": {
        "id": "HnGiM_wO76K6"
      }
    },
    {
      "cell_type": "markdown",
      "source": [
        "###**1. A**\n",
        "Hitunglah Upah Kerja (Kotor) dari seluruh karyawan Perusahaan B jika diketahui upah per jam adalah Rp 30000\n",
        "\n",
        "Tampilkan output sebagai berikut\n",
        "\n",
        "Contoh:\n",
        "Upah Kerja (Kotor) Doni = Rp 380000\n",
        "Keterangan :\n",
        "- Upah per jam = 30000\n",
        "- Upah Kerja (Kotor) = Jam Kerja x Upah per Jam"
      ],
      "metadata": {
        "id": "8ff2Akv-76Nk"
      }
    },
    {
      "cell_type": "code",
      "source": [
        "UPAH_PER_JAM = 30000\n",
        "\n",
        "# upah Joko\n",
        "nama_karyawan_1 = 'Joko'\n",
        "jam_kerja_karyawan_1 = 44\n",
        "upah_kotor_karyawan_1 = jam_kerja_karyawan_1 * UPAH_PER_JAM\n",
        "print(f'Upah Kerja (Kotor) {nama_karyawan_1} = Rp {upah_kotor_karyawan_1}')\n",
        "\n",
        "# upah Alex\n",
        "nama_karyawan_2 = 'Alex'\n",
        "jam_kerja_karyawan_2 = 48\n",
        "upah_kotor_karyawan_2 = jam_kerja_karyawan_2 * UPAH_PER_JAM\n",
        "print(f'Upah Kerja (Kotor) {nama_karyawan_2} = Rp {upah_kotor_karyawan_2}')\n",
        "\n",
        "# upah Chandra\n",
        "nama_karyawan_3 = 'Chandra'\n",
        "jam_kerja_karyawan_3 = 50\n",
        "upah_kotor_karyawan_3 = jam_kerja_karyawan_3 * UPAH_PER_JAM\n",
        "print(f'Upah Kerja (Kotor) {nama_karyawan_3} = Rp {upah_kotor_karyawan_3}')\n",
        "\n",
        "# upah Hartono\n",
        "nama_karyawan_4 = 'Hartono'\n",
        "jam_kerja_karyawan_4 = 42\n",
        "upah_kotor_karyawan_4 = jam_kerja_karyawan_4 * UPAH_PER_JAM\n",
        "print(f'Upah Kerja (Kotor) {nama_karyawan_4} = Rp {upah_kotor_karyawan_4}')\n",
        "\n",
        "# upah Samsul\n",
        "nama_karyawan_5 = 'Samsul'\n",
        "jam_kerja_karyawan_5 = 45\n",
        "upah_kotor_karyawan_5 = jam_kerja_karyawan_5 * UPAH_PER_JAM\n",
        "print(f'Upah Kerja (Kotor) {nama_karyawan_5} = Rp {upah_kotor_karyawan_5}')"
      ],
      "metadata": {
        "colab": {
          "base_uri": "https://localhost:8080/"
        },
        "id": "nbcTgpGR_Rd8",
        "outputId": "c7a89475-6842-4540-c518-6a67beac9810"
      },
      "execution_count": 1,
      "outputs": [
        {
          "output_type": "stream",
          "name": "stdout",
          "text": [
            "Upah Kerja (Kotor) Joko = Rp 1320000\n",
            "Upah Kerja (Kotor) Alex = Rp 1440000\n",
            "Upah Kerja (Kotor) Chandra = Rp 1500000\n",
            "Upah Kerja (Kotor) Hartono = Rp 1260000\n",
            "Upah Kerja (Kotor) Samsul = Rp 1350000\n"
          ]
        }
      ]
    },
    {
      "cell_type": "markdown",
      "source": [
        "###**1. B**\n",
        "\n",
        "Hitunglah Upah Lembur dari seluruh karyawan Perusahaan B\n",
        "\n",
        "Tampilkan output sebagai berikut: contoh\n",
        "\n",
        "contoh:\n",
        "Upah Lembur Doni = Rp 23000\n",
        "Keterangan :\n",
        "- Upah lembur per jam = 35000\n",
        "- Upah Lembur = Jam Lembur x Upah lembur per jam"
      ],
      "metadata": {
        "id": "Vr7PblWt76QL"
      }
    },
    {
      "cell_type": "code",
      "source": [
        "UPAH_LEMBUR_PER_JAM = 35000\n",
        "\n",
        "# Lembur Joko\n",
        "nama_karyawan_1 = 'Joko'\n",
        "jam_lembur_karyawan_1 = 12\n",
        "upah_lembur_karyawan_1 = jam_lembur_karyawan_1 * UPAH_LEMBUR_PER_JAM\n",
        "print(f'Upah lembur {nama_karyawan_1} = Rp {upah_lembur_karyawan_1}')\n",
        "\n",
        "# Lembur Alex\n",
        "nama_karyawan_2 = 'Alex'\n",
        "jam_lembur_karyawan_2 = 11\n",
        "upah_lembur_karyawan_2 = jam_lembur_karyawan_2 * UPAH_LEMBUR_PER_JAM\n",
        "print(f'Upah lembur {nama_karyawan_2} = Rp {upah_lembur_karyawan_2}')\n",
        "\n",
        "# Lembur Chandra\n",
        "nama_karyawan_3 = 'Chandra'\n",
        "jam_lembur_karyawan_3 = 10\n",
        "upah_lembur_karyawan_3 = jam_lembur_karyawan_3 * UPAH_LEMBUR_PER_JAM\n",
        "print(f'Upah lembur {nama_karyawan_3} = Rp {upah_lembur_karyawan_3}')\n",
        "\n",
        "# Lembur Hartono\n",
        "nama_karyawan_4 = 'Hartono'\n",
        "jam_lembur_karyawan_4 = 15\n",
        "upah_lembur_karyawan_4 = jam_lembur_karyawan_4 * UPAH_LEMBUR_PER_JAM\n",
        "print(f'Upah lembur {nama_karyawan_4} = Rp {upah_lembur_karyawan_4}')\n",
        "\n",
        "# Lembur Samsul\n",
        "nama_karyawan_5 = 'Samsul'\n",
        "jam_lembur_karyawan_5 = 12\n",
        "upah_lembur_karyawan_5 = jam_lembur_karyawan_5 * UPAH_LEMBUR_PER_JAM\n",
        "print(f'Upah lembur {nama_karyawan_5} = Rp {upah_lembur_karyawan_5}')"
      ],
      "metadata": {
        "colab": {
          "base_uri": "https://localhost:8080/"
        },
        "id": "0X9y_Ajl_3u0",
        "outputId": "ac5c872f-eeaa-426c-c26e-7b8ad4f58589"
      },
      "execution_count": 4,
      "outputs": [
        {
          "output_type": "stream",
          "name": "stdout",
          "text": [
            "Upah lembur Joko = Rp 420000\n",
            "Upah lembur Alex = Rp 385000\n",
            "Upah lembur Chandra = Rp 350000\n",
            "Upah lembur Hartono = Rp 525000\n",
            "Upah lembur Samsul = Rp 420000\n"
          ]
        }
      ]
    },
    {
      "cell_type": "markdown",
      "source": [
        "###**1. C**\n",
        "\n",
        "Hitunglah Total Upah dari seluruh karyawan Perusahaan B\n",
        "\n",
        "Tampilkan output sebagai berikut:\n",
        "\n",
        "Contoh :\n",
        "- Total Upah Doni = RP 49000\n",
        "\n",
        "Keterangan :\n",
        "- Total Upah = Upah Kerja (Kotor) + Upah Lembur"
      ],
      "metadata": {
        "id": "I-Q-Ml1ECRxk"
      }
    },
    {
      "cell_type": "code",
      "source": [
        "# Total upah Joko\n",
        "nama_karyawan_1 = 'Joko'\n",
        "total_upah_karyawan_1 = upah_kotor_karyawan_1 + upah_lembur_karyawan_1\n",
        "print(f'Total Upah {nama_karyawan_1} = Rp {total_upah_karyawan_1}')\n",
        "\n",
        "# Total upah Alex\n",
        "nama_karyawan_2 = 'Alex'\n",
        "total_upah_karyawan_2 = upah_kotor_karyawan_2 + upah_lembur_karyawan_2\n",
        "print(f'Total Upah {nama_karyawan_2} = Rp {total_upah_karyawan_2}')\n",
        "\n",
        "# Total upah Chandra\n",
        "nama_karyawan_3 = 'Chandra'\n",
        "total_upah_karyawan_3 = upah_kotor_karyawan_3 + upah_lembur_karyawan_3\n",
        "print(f'Total Upah {nama_karyawan_3} = Rp {total_upah_karyawan_3}')\n",
        "\n",
        "# Total upah Hartono\n",
        "nama_karyawan_4 = 'Hartono'\n",
        "total_upah_karyawan_4 = upah_kotor_karyawan_4 + upah_lembur_karyawan_4\n",
        "print(f'Total Upah {nama_karyawan_4} = Rp {total_upah_karyawan_4}')\n",
        "\n",
        "# Total upah Samsul\n",
        "nama_karyawan_5 = 'Samsul'\n",
        "total_upah_karyawan_5 = upah_kotor_karyawan_5 + upah_lembur_karyawan_5\n",
        "print(f'Total Upah {nama_karyawan_5} = Rp {total_upah_karyawan_5}')\n"
      ],
      "metadata": {
        "colab": {
          "base_uri": "https://localhost:8080/"
        },
        "id": "95-vAZleDyMH",
        "outputId": "96f22ac9-001a-40e3-bbcb-a7367fa8d464"
      },
      "execution_count": 7,
      "outputs": [
        {
          "output_type": "stream",
          "name": "stdout",
          "text": [
            "Total Upah Joko = Rp 1740000\n",
            "Total Upah Alex = Rp 1825000\n",
            "Total Upah Chandra = Rp 1850000\n",
            "Total Upah Hartono = Rp 1785000\n",
            "Total Upah Samsul = Rp 1770000\n"
          ]
        }
      ]
    },
    {
      "cell_type": "markdown",
      "source": [
        "###**1. D**\n",
        "Jika persentase pajak karyawan adalah 5%, hitunglah Pajak dari setiap karyawan Perusahaan B\n",
        "\n",
        "Tampilkan output sebagai berikut:\n",
        "\n",
        "Contoh:\n",
        "- `Total Pajak Doni = Rp 5000`\n",
        "\n",
        "Keterangan : Pajak = Total upah x 5%\n",
        "\n"
      ],
      "metadata": {
        "id": "cFPMkWglF2yM"
      }
    },
    {
      "cell_type": "code",
      "source": [
        "# Total Pajak Joko\n",
        "nama_karyawan_1 = 'Joko'\n",
        "total_pajak_karyawan_1 = total_upah_karyawan_1 * 5/100\n",
        "print(f'Total Upah {nama_karyawan_1} = Rp {total_pajak_karyawan_1}')\n",
        "\n",
        "# Total Pajak Alex\n",
        "nama_karyawan_2 = 'Alex'\n",
        "total_pajak_karyawan_2 = total_upah_karyawan_2 * 5/100\n",
        "print(f'Total Upah {nama_karyawan_2} = Rp {total_pajak_karyawan_2}')\n",
        "\n",
        "# Total Pajak Chandra\n",
        "nama_karyawan_3 = 'Chandra'\n",
        "total_pajak_karyawan_3 = total_upah_karyawan_3 * 5/100\n",
        "print(f'Total Upah {nama_karyawan_3} = Rp {total_pajak_karyawan_3}')\n",
        "\n",
        "# Total Pajak Hartono\n",
        "nama_karyawan_4 = 'Hartono'\n",
        "total_pajak_karyawan_4 = total_upah_karyawan_4 * 5/100\n",
        "print(f'Total Upah {nama_karyawan_4} = Rp {total_pajak_karyawan_4}')\n",
        "\n",
        "# Total Pajak Samsul\n",
        "nama_karyawan_5 = 'Samsul'\n",
        "total_pajak_karyawan_5 = total_upah_karyawan_5 * 5/100\n",
        "print(f'Total Upah {nama_karyawan_5} = Rp {total_pajak_karyawan_5}')"
      ],
      "metadata": {
        "colab": {
          "base_uri": "https://localhost:8080/"
        },
        "id": "jECstFtlH0gJ",
        "outputId": "472c9500-14a0-47fc-c638-ab2ff929cd6e"
      },
      "execution_count": 12,
      "outputs": [
        {
          "output_type": "stream",
          "name": "stdout",
          "text": [
            "Total Upah Joko = Rp 87000.0\n",
            "Total Upah Alex = Rp 91250.0\n",
            "Total Upah Chandra = Rp 92500.0\n",
            "Total Upah Hartono = Rp 89250.0\n",
            "Total Upah Samsul = Rp 88500.0\n"
          ]
        }
      ]
    },
    {
      "cell_type": "markdown",
      "source": [
        "**1. E**\n",
        "\n",
        "Hitunglah Total Upah (Netto) dari setiap karyawan Perusahaan B\n",
        "\n",
        "Tampilkan output seperti berikut:\n",
        "\n",
        "Contoh:\n",
        "- Total Upah (Netto) Doni = Rp 65000\n",
        "\n",
        "Keterangan :\n",
        "- Total Upah (Netto) = Total Upah - Pajak"
      ],
      "metadata": {
        "id": "ZGDZ_eOaI5EA"
      }
    },
    {
      "cell_type": "code",
      "source": [
        "# Total Netto Joko\n",
        "nama_karyawan_1 = 'Joko'\n",
        "total_netto_karyawan_1 = total_upah_karyawan_1 - total_pajak_karyawan_1\n",
        "print(f'Total Upah {nama_karyawan_1} = Rp {total_netto_karyawan_1}')\n",
        "\n",
        "# Total Netto Alex\n",
        "nama_karyawan_2 = 'Alex'\n",
        "total_netto_karyawan_2 = total_upah_karyawan_2 - total_pajak_karyawan_2\n",
        "print(f'Total Upah {nama_karyawan_1} = Rp {total_netto_karyawan_2}')\n",
        "\n",
        "# Total Netto Chandra\n",
        "nama_karyawan_3 = 'Chandra'\n",
        "total_netto_karyawan_3 = total_upah_karyawan_3 - total_pajak_karyawan_3\n",
        "print(f'Total Upah {nama_karyawan_3} = Rp {total_netto_karyawan_3}')\n",
        "\n",
        "# Total Netto Hartono\n",
        "nama_karyawan_4 = 'JokHartono'\n",
        "total_netto_karyawan_4 = total_upah_karyawan_4 - total_pajak_karyawan_4\n",
        "print(f'Total Upah {nama_karyawan_4} = Rp {total_netto_karyawan_4}')\n",
        "\n",
        "# Total Netto Samsul\n",
        "nama_karyawan_5 = 'Samsul'\n",
        "total_netto_karyawan_5 = total_upah_karyawan_5 - total_pajak_karyawan_5\n",
        "print(f'Total Upah {nama_karyawan_5} = Rp {total_netto_karyawan_5}')"
      ],
      "metadata": {
        "colab": {
          "base_uri": "https://localhost:8080/"
        },
        "id": "EK58hm_mI4Mu",
        "outputId": "636b21ab-eb44-4710-a8e1-703bc92b4c26"
      },
      "execution_count": 17,
      "outputs": [
        {
          "output_type": "stream",
          "name": "stdout",
          "text": [
            "Total Upah Joko = Rp 1653000.0\n",
            "Total Upah Joko = Rp 1733750.0\n",
            "Total Upah Chandra = Rp 1757500.0\n",
            "Total Upah JokHartono = Rp 1695750.0\n",
            "Total Upah Samsul = Rp 1681500.0\n"
          ]
        }
      ]
    },
    {
      "cell_type": "markdown",
      "source": [
        "###**1.F**\n",
        "Berapakah jumlah total upah seluruh karyawan Perusahaan B?\n",
        "\n",
        "Tampilkan output sebagai berikut:\n",
        "\n",
        "Contoh:\n",
        "- Jumlah total upah karyawan Perusahaan X adalah = Rp 300000"
      ],
      "metadata": {
        "id": "KSS65qkwLBwd"
      }
    },
    {
      "cell_type": "code",
      "source": [
        "jumlah_total_upah = total_netto_karyawan_1 + total_netto_karyawan_2 + total_netto_karyawan_3 + total_netto_karyawan_4 + total_netto_karyawan_5\n",
        "print(f'Jumlah total upah karyawan Perusahaan X adalah = Rp {jumlah_total_upah}')"
      ],
      "metadata": {
        "colab": {
          "base_uri": "https://localhost:8080/"
        },
        "id": "Ed3WzqXoLM38",
        "outputId": "42cbd951-1d07-4bba-90c9-7e9d530ee899"
      },
      "execution_count": 19,
      "outputs": [
        {
          "output_type": "stream",
          "name": "stdout",
          "text": [
            "Jumlah total upah karyawan Perusahaan X adalah = Rp 8521500.0\n"
          ]
        }
      ]
    },
    {
      "cell_type": "markdown",
      "source": [
        "### **1G**\n",
        "Berapakah jumlah rata-rata upah seluruh karyawan Perusahaan B?\n",
        "\n",
        "Tampilkan output sebagai berikut\n",
        "\n",
        "Contoh:\n",
        "- Rata-rata upah karyawan Perusahaan B adalah = Rp 9800"
      ],
      "metadata": {
        "id": "6mG3WJONL4Sn"
      }
    },
    {
      "cell_type": "code",
      "source": [
        "rata_rata_upah = jumlah_total_upah / 5\n",
        "print(f'Rata-rata upah karyawan Perusahaan B adalah = Rp {rata_rata_upah}')"
      ],
      "metadata": {
        "colab": {
          "base_uri": "https://localhost:8080/"
        },
        "id": "7sHuBiusL8uH",
        "outputId": "0ca99777-e6ca-4d5b-d2ef-edcacabf684d"
      },
      "execution_count": 20,
      "outputs": [
        {
          "output_type": "stream",
          "name": "stdout",
          "text": [
            "Rata-rata upah karyawan Perusahaan B adalah = Rp 1704300.0\n"
          ]
        }
      ]
    },
    {
      "cell_type": "markdown",
      "source": [
        "##Case Study 2: Menghitung Pajak Kendaraan"
      ],
      "metadata": {
        "id": "wlSge9JSMB3I"
      }
    },
    {
      "cell_type": "markdown",
      "source": [
        "Setelah bekerja cukup lama Pak Samsul memutuskan untuk membeli mobil dari uang tabungan. Sebelum membeli mobil Pak Samsul melakukan riset terlebih dahulu untuk mengetahui rincian biaya pajak mobil yang akan dibeli. Hasil riset pajak Pak Samsul adalah sebagai berikut.\n",
        "\n",
        "- Pajak Kendaraan Bermotor (PKB): 2% Nilai Jual Kendaraan Bermotor (NJKB) atau harga jual mobil\n",
        "- Bea Balik Nama Kendaraan Bermotor (BBN KB): 10% harga jual mobil\n",
        "- Sumbangan Wajib Dana Kecelakaan Lalu Lintas Jalan (SWDKLLJ): Rp143.000\n",
        "- Biaya administrasi Tanda Nomor Kendaraan Bermotor (TNKB): Rp100.000\n",
        "- Penerbitan Surat Tanda Nomor Kendaraan (STNK) = Rp200.000\n",
        "- Pengesahan Surat Tanda Nomor Kendaraan (STNK) = Rp50.000\n",
        "- Biaya administrasi : Rp50.000\n",
        "\n",
        "Setelah itu Pak Samsul mencari model mobil yang cocok, dan pilihan Pak Samsul tertuju pada mobil bernama XPanther. Mobil tersebut harganya Rp 200 juta."
      ],
      "metadata": {
        "id": "1AMPHUG2MjEy"
      }
    },
    {
      "cell_type": "markdown",
      "source": [
        "### **2. A**\n",
        "\n",
        "Berapakah Pajak Tahun Pertama mobil Pak Samsul\n",
        "\n",
        "Tampilkan output sebagai berikut\n",
        "\n",
        "Contoh:\n",
        "Pajak Tahun Pertama mobil Pak B = Rp 20000\n",
        "Keterangan:\n",
        "- Pajak Tahun Pertama = BBN KB + PKB + SWDKLLJ + TNKB + penerbitan STNK + biaya administrasi"
      ],
      "metadata": {
        "id": "OoaArrAwMmQf"
      }
    },
    {
      "cell_type": "code",
      "source": [
        "Harga_jual = 200000000\n",
        "\n",
        "PKB = 0.02 * Harga_jual\n",
        "BBN_KB = 0.1 * Harga_jual\n",
        "SWDKLLJ = 143000\n",
        "TNKB = 100000\n",
        "SAH_STNK = 200000\n",
        "TERBIT_STNK = 50000\n",
        "BIAYA_ADMINISTRASI = 50000\n",
        "\n",
        "Pajak_PKB = BBN_KB + PKB + SWDKLLJ + TNKB + SAH_STNK + BIAYA_ADMINISTRASI\n",
        "\n",
        "\n",
        "print(f'Pajak tahun pertama mobil Pak Samsul = Rp {Pajak_PKB}')"
      ],
      "metadata": {
        "colab": {
          "base_uri": "https://localhost:8080/"
        },
        "id": "H-rPgcPSTdkq",
        "outputId": "9c69425a-2d64-44eb-d257-2bcdc5caaaa0"
      },
      "execution_count": 26,
      "outputs": [
        {
          "output_type": "stream",
          "name": "stdout",
          "text": [
            "Pajak tahun pertama mobil Pak Samsul = Rp 24493000.0\n"
          ]
        }
      ]
    },
    {
      "cell_type": "markdown",
      "source": [
        "###**2. B**\n",
        "Berapa pajak tahun-tahun selanjutnya mobil Pak Samsul?\n",
        "\n",
        "Tampilkan output sebagai berikut:\n",
        "\n",
        "Contoh:\n",
        "Pajak Tahun-tahun berikutnya = Rp 10000\n",
        "keterangan:\n",
        " - Pajak tahun-tahun berikutnya = PKB + SWDKLLJ + biaya administrasi"
      ],
      "metadata": {
        "id": "siQ0VMpkNOSo"
      }
    },
    {
      "cell_type": "code",
      "source": [
        "pajak_tahun_berikut = PKB + SWDKLLJ + BIAYA_ADMINISTRASI\n",
        "print(f'Pajak tahun-tahun berikutnya = Rp {pajak_tahun_berikut}')"
      ],
      "metadata": {
        "colab": {
          "base_uri": "https://localhost:8080/"
        },
        "id": "QNdKaMdJUVZV",
        "outputId": "4d59644a-b3a3-4971-e0f5-ec6952b5dcb2"
      },
      "execution_count": 28,
      "outputs": [
        {
          "output_type": "stream",
          "name": "stdout",
          "text": [
            "Pajak tahun-tahun berikutnya = Rp 4193000.0\n"
          ]
        }
      ]
    },
    {
      "cell_type": "markdown",
      "source": [
        "###**2. C**\n",
        "Berapakah pajak 5 tahunan mobil Pak Samsul\n",
        "\n",
        "Tampilkan output sebagai berikut\n",
        "\n",
        "Contoh:\n",
        "Pajak Lima Tahunan : Rp 30000\n",
        "Keterangan:\n",
        "- Pajak 5 tahunan = PKB + SWDKLLJ + Biaya pengesahan STNK + Biaya penerbitan STNK + Biaya administrasi TNKB + Biaya administrasi"
      ],
      "metadata": {
        "id": "bH5mjHiBNUWe"
      }
    },
    {
      "cell_type": "code",
      "source": [
        "pajak_5_tahunan = PKB + SWDKLLJ + SAH_STNK + TERBIT_STNK + TNKB + BIAYA_ADMINISTRASI\n",
        "print(f'Pajak Lima Tahunan = Rp {pajak_5_tahunan}')"
      ],
      "metadata": {
        "colab": {
          "base_uri": "https://localhost:8080/"
        },
        "id": "qehwbOiWUkCh",
        "outputId": "fe2e3145-43ff-4fc4-d648-67c48c770c72"
      },
      "execution_count": 27,
      "outputs": [
        {
          "output_type": "stream",
          "name": "stdout",
          "text": [
            "Pajak Lima Tahunan = Rp 4543000.0\n"
          ]
        }
      ]
    },
    {
      "cell_type": "markdown",
      "source": [
        "##Case Study 3: Edit Hasil Scrapping Media Sosial"
      ],
      "metadata": {
        "id": "EqHOlYOjNY9o"
      }
    },
    {
      "cell_type": "markdown",
      "source": [
        "Dian sedang membuat analisis sentimen untuk mengetahui sentimen masyarakat tentang Covid-19. Contoh data yang didapatkan Dian dari scrapping media sosial adalah sebagai berikut :\n",
        "\n",
        "- The situation report on #COVID19 from #WHOThailand for 29 September 2022 is now available.\n",
        "- Covid-19 lockdowns, economic crises, and household income shocks can have scarring impacts on children's education.\n",
        "- South Korea removes COVID-19 PCR testing for inbound travellers from Oct 1.\n",
        "\n",
        "Bantu Dian untuk mengolah data tersebut!"
      ],
      "metadata": {
        "id": "qEVV3867NetZ"
      }
    },
    {
      "cell_type": "markdown",
      "source": [
        "Catatan :\n",
        "\n",
        "Untuk menghilangkan suatu karakter bisa menggunakan method replace. Maksudnya karakter tersebut diganti atau di-replace dengan empty string (\"\")\n",
        "\n",
        "Contoh :\n",
        "\n",
        "Kita akan menghilangkan huruf \"b\" dari kata \"bisa\"\n",
        "\n",
        "- NAMA_VAR = \"bisa\"\n",
        "- NAMA_VAR = NAMA_VAR.replace('b', \"\")\n",
        "\n",
        "\n",
        "Output\n",
        "- print(NAMA_VAR)\n",
        "- \"isa\""
      ],
      "metadata": {
        "id": "MLgwi-kZNrak"
      }
    },
    {
      "cell_type": "markdown",
      "source": [
        "### **3. A**\n",
        "Jika ada, hilangkan karakter tag (#), tanda koma (,) dan tanda strip (-) dari data tersebut."
      ],
      "metadata": {
        "id": "Bwt5tvpZzL-A"
      }
    },
    {
      "cell_type": "code",
      "source": [
        "word_1 = \"The situation report on #COVID19 from #WHOThailand for 29 September 2022 is now available\"\n",
        "word_2 = \"Covid-19 lockdowns, economic crises, and household income shocks can have scarring impacts on childrens education\"\n",
        "word_3 = \"South Korea removes COVID-19 PCR testing for inbound travellers from Oct 1\"\n",
        "\n",
        "word_1 = word_1.replace('#', \"\")\n",
        "word_2 = word_2.replace(',', \"\")\n",
        "word_3 = word_3.replace('-', \"\")\n",
        "\n",
        "print(f'word_1 = {word_1}')\n",
        "print(f'word_2 = {word_2}')\n",
        "print(f'word_3 = {word_3}')"
      ],
      "metadata": {
        "colab": {
          "base_uri": "https://localhost:8080/"
        },
        "id": "LSOZd7GoNl_n",
        "outputId": "661dc8be-2a69-4356-cc64-7e5054d74d07"
      },
      "execution_count": 3,
      "outputs": [
        {
          "output_type": "stream",
          "name": "stdout",
          "text": [
            "word_1 = The situation report on COVID19 from WHOThailand for 29 September 2022 is now available\n",
            "word_2 = Covid-19 lockdowns economic crises and household income shocks can have scarring impacts on childrens education\n",
            "word_3 = South Korea removes COVID19 PCR testing for inbound travellers from Oct 1\n"
          ]
        }
      ]
    },
    {
      "cell_type": "markdown",
      "source": [
        "### **3. B**\n",
        "Kemudian, buat semua huruf menjadi huruf kecil."
      ],
      "metadata": {
        "id": "7R_kuI-V2ZDH"
      }
    },
    {
      "cell_type": "code",
      "source": [
        "word_1 = \"The situation report on #COVID19 from #WHOThailand for 29 September 2022 is now available\"\n",
        "word_2 = \"Covid-19 lockdowns, economic crises, and household income shocks can have scarring impacts on childrens education\"\n",
        "word_3 = \"South Korea removes COVID-19 PCR testing for inbound travellers from Oct 1\"\n",
        "\n",
        "word_1 = word_1.lower()\n",
        "word_2 = word_2.lower()\n",
        "word_3 = word_3.lower()\n",
        "\n",
        "print(f'word_1 = {word_1}')\n",
        "print(f'word_2 = {word_2}')\n",
        "print(f'word_3 = {word_3}')"
      ],
      "metadata": {
        "colab": {
          "base_uri": "https://localhost:8080/"
        },
        "id": "cVS8wS3h2g53",
        "outputId": "149f0a7a-0c9e-45d0-ae04-694d1a429c62"
      },
      "execution_count": 5,
      "outputs": [
        {
          "output_type": "stream",
          "name": "stdout",
          "text": [
            "word_1 = the situation report on #covid19 from #whothailand for 29 september 2022 is now available\n",
            "word_2 = covid-19 lockdowns, economic crises, and household income shocks can have scarring impacts on childrens education\n",
            "word_3 = south korea removes covid-19 pcr testing for inbound travellers from oct 1\n"
          ]
        }
      ]
    },
    {
      "cell_type": "markdown",
      "source": [
        "##**Case Study 4: Percetakan Banner**"
      ],
      "metadata": {
        "id": "a45z1AYD2tjq"
      }
    },
    {
      "cell_type": "markdown",
      "source": [
        "Lila memiliki usaha percetakan Banner di depan rumah. Dia mendapatkan pelanggan untuk mencetak banner peringatan 17 Agustus. Pelanggan meminta ada dua kalimat nanti yang akan dicetak pada banner dengan ukuran 1 * 3. Kalimat yang pertama \"Diragahayu Republik Indonesia ke-77\". Kalimat ke dua \"BANGKIT LEBIH CEPAT PULIH LEBIH KUAT\""
      ],
      "metadata": {
        "id": "KUCt4Sqn2wg2"
      }
    },
    {
      "cell_type": "markdown",
      "source": [
        "### **4. A**\n",
        "Sebelum mencetak banner Lila melakukan cek dahulu. Pada kalimat pertama terdapat kesalahan kata \"Diragahayu\" yang seharusnya \"Dirgahayu\". Ubah kalimat pertama sehingga menjadi benar"
      ],
      "metadata": {
        "id": "Zds8gPur209n"
      }
    },
    {
      "cell_type": "code",
      "source": [
        "word_1 = \"Diragahayu Republik Indonesia ke-77\"\n",
        "word_2 = \"BANGKIT LEBIH CEPAT PULIH LEBIH KUAT\"\n",
        "\n",
        "word_1 = word_1.replace('Diragahayu', 'Dirgahayu')\n",
        "\n",
        "print(f'word_1 = {word_1}')\n",
        "print(f'word_2 = {word_2}')"
      ],
      "metadata": {
        "colab": {
          "base_uri": "https://localhost:8080/"
        },
        "id": "ix2w4b2U3aHp",
        "outputId": "70cfd727-e3ce-4ff7-8829-edebe9fc52cb"
      },
      "execution_count": 6,
      "outputs": [
        {
          "output_type": "stream",
          "name": "stdout",
          "text": [
            "word_1 = Dirgahayu Republik Indonesia ke-77\n",
            "word_2 = BANGKIT LEBIH CEPAT PULIH LEBIH KUAT\n"
          ]
        }
      ]
    },
    {
      "cell_type": "markdown",
      "source": [
        "### **4. B**\n",
        "Kemudian ubah string kalimat pertama menjadi huruf kapital semuanya"
      ],
      "metadata": {
        "id": "iNRHmjFR3jGh"
      }
    },
    {
      "cell_type": "code",
      "source": [
        "word_1 = word_1.upper()\n",
        "\n",
        "print(f'{word_1}')"
      ],
      "metadata": {
        "colab": {
          "base_uri": "https://localhost:8080/"
        },
        "id": "UJ5f0ybI3ipf",
        "outputId": "e25a8057-a103-49d9-e493-1c51985323c6"
      },
      "execution_count": 8,
      "outputs": [
        {
          "output_type": "stream",
          "name": "stdout",
          "text": [
            "DIRGAHAYU REPUBLIK INDONESIA KE-77\n"
          ]
        }
      ]
    }
  ]
}