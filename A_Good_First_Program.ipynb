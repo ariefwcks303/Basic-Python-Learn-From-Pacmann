{
  "nbformat": 4,
  "nbformat_minor": 0,
  "metadata": {
    "colab": {
      "provenance": [],
      "toc_visible": true,
      "authorship_tag": "ABX9TyNQwaczbqANMB05pWxVY5qi",
      "include_colab_link": true
    },
    "kernelspec": {
      "name": "python3",
      "display_name": "Python 3"
    },
    "language_info": {
      "name": "python"
    }
  },
  "cells": [
    {
      "cell_type": "markdown",
      "metadata": {
        "id": "view-in-github",
        "colab_type": "text"
      },
      "source": [
        "<a href=\"https://colab.research.google.com/github/ariefwcks303/Basic-Python-Learn-From-Pacmann/blob/main/A_Good_First_Program.ipynb\" target=\"_parent\"><img src=\"https://colab.research.google.com/assets/colab-badge.svg\" alt=\"Open In Colab\"/></a>"
      ]
    },
    {
      "cell_type": "markdown",
      "source": [
        "#**Pertemuan 1  A Good First Program**"
      ],
      "metadata": {
        "id": "T6nuM5bO7Ks3"
      }
    },
    {
      "cell_type": "markdown",
      "source": [
        "# **Outline**\n",
        "1. Printing\n",
        "2. Variabel\n",
        "3. More Printing\n",
        "4. Commenting\n",
        "5. Error and How to Solve"
      ],
      "metadata": {
        "id": "mXSbdgAqokB2"
      }
    },
    {
      "cell_type": "markdown",
      "source": [
        "##1. Printing\n",
        "\n",
        "Case Study 1\n",
        "\n",
        "- Sebagai pengalaman ngoding awal, kita bisa menampilkan sesuatu lewat Python.\n",
        "- Kita dapat menampilkan text maupun angka menggunakan perintah print pada Python.\n",
        "- Caranya ialah dengan menggunakan perintah print melalui syntax di bawah ini:\n",
        "- print(\" < *TEXT* YANG INGIN DITAMPILKAN > \")\n",
        "- print(< ANGKA YANG INGIN DITAMPILKAN >)\n",
        "\n",
        "- Ketika kita ingin menampilkan atau print angka yang berjumlah besar, kita bisa menggunakan underscore (_) untuk mempermudah orang lain atau kita sendiri ketika membaca code kita (human readable)\n",
        "\n",
        "Semisal kita ingin mengeluarkan angka 100.000.000 maka akan seperti berikut\n",
        "\n",
        "print(100_000_000)"
      ],
      "metadata": {
        "id": "LeV6JOJxovH6"
      }
    },
    {
      "cell_type": "markdown",
      "source": [
        "**1. A**\n",
        "\n",
        "Misalkan kita ingin menampilkan kalimat Halo Dunia!"
      ],
      "metadata": {
        "id": "2HJYkIB2pjxw"
      }
    },
    {
      "cell_type": "code",
      "execution_count": 1,
      "metadata": {
        "colab": {
          "base_uri": "https://localhost:8080/"
        },
        "id": "qxNbg1bmnHt3",
        "outputId": "7614a340-03d1-4b1f-8830-326d573e11ab"
      },
      "outputs": [
        {
          "output_type": "stream",
          "name": "stdout",
          "text": [
            "Hello World!\n"
          ]
        }
      ],
      "source": [
        "print(\"Hello World!\")"
      ]
    },
    {
      "cell_type": "markdown",
      "source": [
        "**1. B**\n",
        "\n",
        "Misalkan kita ingin menampilkan kalimat Saya sedang belajar menampilkan text"
      ],
      "metadata": {
        "id": "faknPyZrp1_G"
      }
    },
    {
      "cell_type": "code",
      "source": [
        "print(\"Saya sedang belajar menampilkan text\")"
      ],
      "metadata": {
        "colab": {
          "base_uri": "https://localhost:8080/"
        },
        "id": "2rXRd7FTp_0f",
        "outputId": "677941a4-e7b4-4e2e-a8ca-5b93db55ff67"
      },
      "execution_count": 2,
      "outputs": [
        {
          "output_type": "stream",
          "name": "stdout",
          "text": [
            "Saya sedang belajar menampilkan text\n"
          ]
        }
      ]
    },
    {
      "cell_type": "markdown",
      "source": [
        "**1. C**\n",
        "- isalkan kita ingin menampilkan bulan lahir kita (dalam bentuk angka)!\n",
        "- (sesuaikan dengan bulan lahir teman - teman)"
      ],
      "metadata": {
        "id": "tw_xdarEokIb"
      }
    },
    {
      "cell_type": "code",
      "source": [
        "print(\"20/11/1998\")"
      ],
      "metadata": {
        "colab": {
          "base_uri": "https://localhost:8080/"
        },
        "id": "rjTcjd6dqjcH",
        "outputId": "84f33057-18e3-413e-d6c7-e1825c65276d"
      },
      "execution_count": 3,
      "outputs": [
        {
          "output_type": "stream",
          "name": "stdout",
          "text": [
            "20/11/1998\n"
          ]
        }
      ]
    },
    {
      "cell_type": "markdown",
      "source": [
        "**1. D**\n",
        "- Misalkan Antono membeli meja sebanyak 6 meja.\n",
        "- cobalah print jumlah meja yang dibeli oleh Antono!"
      ],
      "metadata": {
        "id": "sL0iH6tUqpnW"
      }
    },
    {
      "cell_type": "code",
      "source": [
        "print(6)"
      ],
      "metadata": {
        "colab": {
          "base_uri": "https://localhost:8080/"
        },
        "id": "USEWsykvqvz4",
        "outputId": "5153cd93-9cc5-43ec-e458-91381c05d104"
      },
      "execution_count": 4,
      "outputs": [
        {
          "output_type": "stream",
          "name": "stdout",
          "text": [
            "6\n"
          ]
        }
      ]
    },
    {
      "cell_type": "markdown",
      "source": [
        "**1. E**\n",
        "- Semisal Andi memiliki Coffee Shop dengan nama \"PaperCup Coffee\".\n",
        "- Cobalah print nama Coffee Shop yang dimiliki oleh Andi!"
      ],
      "metadata": {
        "id": "QBRxzP4pq1zT"
      }
    },
    {
      "cell_type": "code",
      "source": [
        "andi = \"PaperCup Coffee\"\n",
        "print(andi)"
      ],
      "metadata": {
        "colab": {
          "base_uri": "https://localhost:8080/"
        },
        "id": "R3d3bfderG7O",
        "outputId": "ec1bfc34-184e-441f-ab1d-2383031458c3"
      },
      "execution_count": 5,
      "outputs": [
        {
          "output_type": "stream",
          "name": "stdout",
          "text": [
            "PaperCup Coffee\n"
          ]
        }
      ]
    },
    {
      "cell_type": "markdown",
      "source": [
        "**1. F**\n",
        "- Toko PaperCup Coffee memiliki menu Butter Croissant dengan harga Rp 35.000\n",
        "- Cobalah print harga menu Butter Croissant!"
      ],
      "metadata": {
        "id": "2DwPGBWwrSjY"
      }
    },
    {
      "cell_type": "code",
      "source": [
        "Butter_Croissant = \"Rp 35.000\"\n",
        "print(Butter_Croissant)"
      ],
      "metadata": {
        "colab": {
          "base_uri": "https://localhost:8080/"
        },
        "id": "DPDYF8TerYl9",
        "outputId": "55d0c7ae-6abb-4375-8041-ac621137b63e"
      },
      "execution_count": 8,
      "outputs": [
        {
          "output_type": "stream",
          "name": "stdout",
          "text": [
            "Rp 35.000\n"
          ]
        }
      ]
    },
    {
      "cell_type": "markdown",
      "source": [
        "**1.G**\n",
        "- PaperCup Coffee memiliki menu baru yaitu \"Salted Caramel Chip\".\n",
        "- Cobalah print nama menu terbaru yang ada di PaperCup Coffee!"
      ],
      "metadata": {
        "id": "JiDx_qzGrnGk"
      }
    },
    {
      "cell_type": "code",
      "source": [
        "menu_baru = \"Salted Caramel Chip\"\n",
        "print(menu_baru)"
      ],
      "metadata": {
        "colab": {
          "base_uri": "https://localhost:8080/"
        },
        "id": "QX37Az1jr0M4",
        "outputId": "8a6b5f52-245d-4133-d9a0-c735599df4d2"
      },
      "execution_count": 9,
      "outputs": [
        {
          "output_type": "stream",
          "name": "stdout",
          "text": [
            "Salted Caramel Chip\n"
          ]
        }
      ]
    },
    {
      "cell_type": "markdown",
      "source": [
        "##2. **Variables**\n",
        "**Case Study 2**\n",
        "\n",
        "- Variabel merupakan tempat menyimpan sebuah nilai ataupun data.\n",
        "- Kita dapat membuat variabel dengan menggunakan syntax sebagai berikut:\n",
        "  nama_variabel = <nilai>\n",
        "\n",
        "- Nilai dapat berupa teks maupun angka/bilangan.\n",
        "\n",
        "**ADDITIONAL RESOURCES**\n",
        "- Kita juga bisa memasukkan banyak nilai ke dalam banyak variable, contoh:\n",
        "1. num_1,\n",
        "2. num_2,\n",
        "3. num_3 = 1, 2, 3\n",
        "\n",
        "- Lalu, kita juga bisa menyimpan sebuah nilai yang Constant ke dalam vairable.\n",
        "- Constant adalah sebuah nilai nya yang tidak bisa diganti atau diubah atau sudah saklek\n",
        "- Untuk penulisan variable nya menggunakan huruf kapital semua, contoh:\n",
        "1. PI = 3.14\n",
        "2. GRAVITY = 9.8\n",
        "3. PAJAK = 0.11"
      ],
      "metadata": {
        "id": "usU7jVzKsAtm"
      }
    },
    {
      "cell_type": "markdown",
      "source": [
        "**2. A**\n",
        "\n",
        "Misalkan kita ingin membuat sebuah variabel yang menyimpan nama kita\n",
        "\n",
        "- Nama Variabel = nama\n",
        "- Isi dari Variabel = \"nama kita\""
      ],
      "metadata": {
        "id": "K2zKYuE4syG0"
      }
    },
    {
      "cell_type": "code",
      "source": [
        "nama = \"Arief Wicaksono\"\n",
        "print(nama)"
      ],
      "metadata": {
        "colab": {
          "base_uri": "https://localhost:8080/"
        },
        "id": "wsApxchns5Em",
        "outputId": "a1ecf00f-48bb-4086-d702-c15b129346fe"
      },
      "execution_count": 10,
      "outputs": [
        {
          "output_type": "stream",
          "name": "stdout",
          "text": [
            "Arief Wicaksono\n"
          ]
        }
      ]
    },
    {
      "cell_type": "markdown",
      "source": [
        "**2. B**\n",
        "\n",
        "Misalkan kita ingin membuat sebuah variabel yang menyimpan text \"Saya sedang belajar cara membuat variabel\"\n",
        "\n",
        "- Nama Variabel = text\n",
        "- Isi dari Variabel = \"Saya sedang belajar membuat variabel\""
      ],
      "metadata": {
        "id": "xP2cpInOtCnw"
      }
    },
    {
      "cell_type": "code",
      "source": [
        "text = \"Saya sedang belajar membuat variabel\"\n",
        "print(text)"
      ],
      "metadata": {
        "colab": {
          "base_uri": "https://localhost:8080/"
        },
        "id": "5eRfxqw6tb9k",
        "outputId": "bb0d2cec-80a6-40fb-a364-bf7d87e2dc3e"
      },
      "execution_count": 11,
      "outputs": [
        {
          "output_type": "stream",
          "name": "stdout",
          "text": [
            "Saya sedang belajar membuat variabel\n"
          ]
        }
      ]
    },
    {
      "cell_type": "markdown",
      "source": [
        "**2. C**\n",
        "\n",
        "- Semisal Andi memiliki Coffee Shop dengan nama \"PaperCup Coffee\".\n",
        "- Coba buatlah variable yang berguna untuk menyimpan text nama Coffee Shop milik Andi!"
      ],
      "metadata": {
        "id": "NtsNOgKNtJh-"
      }
    },
    {
      "cell_type": "code",
      "source": [
        "ANDI = \"PaperCup Coffee\"\n",
        "print(ANDI)"
      ],
      "metadata": {
        "colab": {
          "base_uri": "https://localhost:8080/"
        },
        "id": "f844WmvDt64J",
        "outputId": "4f068811-cc63-46a7-c35b-be089db9f397"
      },
      "execution_count": 12,
      "outputs": [
        {
          "output_type": "stream",
          "name": "stdout",
          "text": [
            "PaperCup Coffee\n"
          ]
        }
      ]
    },
    {
      "cell_type": "markdown",
      "source": [
        "**2 .D**\n",
        "\n",
        "- Toko PaperCup Coffee memiliki menu Butter Croissant dengan harga Rp 35.000\n",
        "- Coba buatlah variable yang menyimpan harga Butter Croissant!"
      ],
      "metadata": {
        "id": "YSOpqYJ9tS60"
      }
    },
    {
      "cell_type": "code",
      "source": [
        "Butter_Croissant = \"Rp 35.000\"\n",
        "print(Butter_Croissant)"
      ],
      "metadata": {
        "colab": {
          "base_uri": "https://localhost:8080/"
        },
        "id": "3FM_4LPKuO0k",
        "outputId": "abec222f-f6b7-473d-96a6-8652672626a4"
      },
      "execution_count": 13,
      "outputs": [
        {
          "output_type": "stream",
          "name": "stdout",
          "text": [
            "Rp 35.000\n"
          ]
        }
      ]
    },
    {
      "cell_type": "markdown",
      "source": [
        "**2. E**\n",
        "- PaperCup Coffee memiliki menu baru yaitu \"Salted Caramel Chip\".\n",
        "- Coba buat variable untuk menyimpan nilai menu baru dari PaperCup Coffee!"
      ],
      "metadata": {
        "id": "44Zx3bn5uY90"
      }
    },
    {
      "cell_type": "code",
      "source": [
        "menu_baru = \"Salted Caramel Chip\"\n",
        "print(menu_baru)"
      ],
      "metadata": {
        "colab": {
          "base_uri": "https://localhost:8080/"
        },
        "id": "JqIH9HO3ufTu",
        "outputId": "34aac205-beb9-4b1c-cf8f-03738cef67c6"
      },
      "execution_count": 14,
      "outputs": [
        {
          "output_type": "stream",
          "name": "stdout",
          "text": [
            "Salted Caramel Chip\n"
          ]
        }
      ]
    },
    {
      "cell_type": "markdown",
      "source": [
        "**2.F**\n",
        "\n",
        "James Hoffman pergi ke PaperCup Coffee milik Andi, setelah mencicipi kopi buatan toko tersebut James termotivasi untuk membuat kopi sendiri ketika di rumah nanti. James pergi ke Supermarket untuk membeli keperluan membuat kopi, berikut adalah barang yang dibeli dan harganya:\n",
        "\n",
        "- Biji Kopi yang dibeli adalah \"Ethiopian Coffee Beans\" dengan harga Rp 115.000\n",
        "- Alat yang dibutuhkan untuk menyeduh kopi sendiri James membeli alat \"V60\" dengan harga Rp 95.500\n",
        "\n",
        "Coba buat variable untuk menyimpan nilai sesuai dengan soal cerita!!"
      ],
      "metadata": {
        "id": "QYiQLJsaukOd"
      }
    },
    {
      "cell_type": "code",
      "source": [
        "\n",
        "biji =  \"Ethiopian Coffee Beans\"\n",
        "Harga_biji = \"Rp 115.000\"\n",
        "\n",
        "alat = \"V60\"\n",
        "harga_alat = \"Rp 95.500\""
      ],
      "metadata": {
        "id": "s6IjhWU4u1fX"
      },
      "execution_count": null,
      "outputs": []
    },
    {
      "cell_type": "markdown",
      "source": [
        "##3. **More Printing**\n",
        "Case Study 3"
      ],
      "metadata": {
        "id": "GMryi5QiviZ4"
      }
    },
    {
      "cell_type": "markdown",
      "source": [
        "**3. A**\n",
        "\n",
        "Setelah sebelumnya kita telah belajar mengenai variabel, maka sekarang kita akan belajar bagaimana caranya menampilkan isi dari variabel yang telah kita buat sebelumnya.\n",
        "\n",
        "Misalkan kita telah membuat sebuah variabel yang menyimpan nama lengkap dan ingin menampilkan isinya.\n",
        "\n",
        "- nama = \"Bill Gates\"\n",
        "- print(nama)"
      ],
      "metadata": {
        "id": "1QHJqRXZvwDp"
      }
    },
    {
      "cell_type": "code",
      "source": [
        " nama = \"Bill Gates\"\n",
        " print(nama)"
      ],
      "metadata": {
        "colab": {
          "base_uri": "https://localhost:8080/"
        },
        "id": "b6fJPcW4v5Z7",
        "outputId": "5d9d426f-b449-46fb-8cb0-c90e0e305c46"
      },
      "execution_count": 16,
      "outputs": [
        {
          "output_type": "stream",
          "name": "stdout",
          "text": [
            "Bill Gates\n"
          ]
        }
      ]
    },
    {
      "cell_type": "markdown",
      "source": [
        "**3. B**\n",
        "\n",
        "Misalkan kita telah membuat sebuah variabel dan ingin menampilkan isinya\n",
        "\n",
        "- text = \"Saya sedang belajar bahasa pemrograman python\"\n",
        "- print(text)"
      ],
      "metadata": {
        "id": "Rd2FvwNTv9ze"
      }
    },
    {
      "cell_type": "code",
      "source": [
        "text = \"Saya sedang belajar bahasa pemrograman python\"\n",
        "print(text)"
      ],
      "metadata": {
        "colab": {
          "base_uri": "https://localhost:8080/"
        },
        "id": "TLMG_UJIwI_b",
        "outputId": "a16b5e67-101d-4e19-e15e-3f58a45dd0be"
      },
      "execution_count": 17,
      "outputs": [
        {
          "output_type": "stream",
          "name": "stdout",
          "text": [
            "Saya sedang belajar bahasa pemrograman python\n"
          ]
        }
      ]
    },
    {
      "cell_type": "markdown",
      "source": [
        "**3. C**\n",
        "Apakah output yang akan dihasilkan dari potongan code di bawah ini?\n",
        "\n",
        "- nama = \"Bill Gates\"\n",
        "- umur = 66\n",
        "- print(Ini adalah %s. Beliau berumur %s tahun.\" % (nama, umur))"
      ],
      "metadata": {
        "id": "hGOZNlqjwTIl"
      }
    },
    {
      "cell_type": "code",
      "source": [
        "nama = \"Bill Gates\"\n",
        "umur = 66\n",
        "print(\"Ini adalah %s. Beliau berumur %d tahun.\" % (nama, umur))\n",
        "\n",
        "#%s memanggil variabel huruf\n",
        "#%d memanggil variabel angka\n"
      ],
      "metadata": {
        "colab": {
          "base_uri": "https://localhost:8080/"
        },
        "id": "Ycm9Jw-8wamN",
        "outputId": "7599ef34-a1c3-45cf-c67e-5ec9bd9b5714"
      },
      "execution_count": 20,
      "outputs": [
        {
          "output_type": "stream",
          "name": "stdout",
          "text": [
            "Ini adalah Bill Gates. Beliau berumur 66 tahun.\n"
          ]
        }
      ]
    },
    {
      "cell_type": "markdown",
      "source": [
        "**3. D**\n",
        "- Semisal Andi memiliki Coffee Shop dengan nama \"PaperCup Coffee\".\n",
        "- Cobalah masukkan nilai nama toko milik Andi ke dalam variable dan print variable tersebut!\n",
        "- Tuliskan code yang sesuai dengan output yang diinginkan"
      ],
      "metadata": {
        "id": "vdJ0I_pXxI20"
      }
    },
    {
      "cell_type": "code",
      "source": [
        "nama_kopi = \"PaperCup Coffee\"\n",
        "print(\"Nama Coffee Shop milik Andi adalah %s.\" % (nama_kopi))"
      ],
      "metadata": {
        "colab": {
          "base_uri": "https://localhost:8080/"
        },
        "id": "JYkLcqBfxX9H",
        "outputId": "a5d8ace8-68c9-42d5-a8fd-f413f1ae646e"
      },
      "execution_count": 22,
      "outputs": [
        {
          "output_type": "stream",
          "name": "stdout",
          "text": [
            "Nama Coffee Shop milik Andi adalah PaperCup Coffee.\n"
          ]
        }
      ]
    },
    {
      "cell_type": "markdown",
      "source": [
        "**3. E**\n",
        "- Toko PaperCup Coffee memiliki menu Butter Croissant dengan harga Rp 35.000\n",
        "- Cobalah masukkan nilai nama menu dan harga menu tersebut ke dalam variable dan print variable tersebut!\n",
        "- Tuliskan code yang sesuai dengan output yang diinginkan\n",
        "\n",
        "Menu favorit di PaperCup Coffee adalah Butter Croissant dengan harga 35000"
      ],
      "metadata": {
        "id": "MSNLsQL2x6Fg"
      }
    },
    {
      "cell_type": "code",
      "source": [
        "fav = \"Butter Croissant\"\n",
        "price = 35000\n",
        "print(\"Menu favorit di PaperCup Coffee adalah %s dengan harga %d.\" % (fav, price))\n",
        "\n"
      ],
      "metadata": {
        "colab": {
          "base_uri": "https://localhost:8080/"
        },
        "id": "z0JjmiC9yPq_",
        "outputId": "c564b411-0dfb-45e1-aead-9f8703e948d9"
      },
      "execution_count": 23,
      "outputs": [
        {
          "output_type": "stream",
          "name": "stdout",
          "text": [
            "Menu favorit di PaperCup Coffee adalah Butter Croissant dengan harga 35000.\n"
          ]
        }
      ]
    },
    {
      "cell_type": "markdown",
      "source": [
        "**3.F**\n",
        "\n",
        "James Hoffman pergi ke PaperCup Coffee milik Andi, setelah mencicipi kopi buatan toko tersebut James termotivasi untuk membuat kopi sendiri ketika di rumah nanti. James pergi ke Supermarket untuk membeli keperluan membuat kopi, berikut adalah barang yang dibeli dan harganya:\n",
        "\n",
        "- Biji Kopi yang dibeli adalah \"Ethiopian Coffee Beans\" dengan harga Rp 115.000\n",
        "- Alat yang dibutuhkan untuk menyeduh kopi sendiri James membeli alat \"V60\" dengan harga Rp 95.500\n",
        "\n",
        "Cobalah masukkan nilai - nilai tersebut ke dalam variable dan buatlah code yang sesuai dengan output!"
      ],
      "metadata": {
        "id": "VDJT9v3dy1EL"
      }
    },
    {
      "cell_type": "code",
      "source": [
        "biji = \"Ethiopian Coffee Beans\"\n",
        "harga_biji = 115000\n",
        "alat = \"V60\"\n",
        "harga_alat = 95500\n",
        "\n",
        "print(\"Biji Kopi yang dibeli adalah %s dengan harga Rp %d \" % (biji, harga_biji))\n",
        "print(\"Alat yang dibutuhkan untuk menyeduh kopi sendiri James membeli alat %s dengan harga Rp %d \" % (alat, harga_alat))\n",
        "\n",
        "\n"
      ],
      "metadata": {
        "colab": {
          "base_uri": "https://localhost:8080/"
        },
        "id": "LIWSFuMxy8Ch",
        "outputId": "50638f5d-5804-44b5-b06b-c3abbc9cb9d3"
      },
      "execution_count": 27,
      "outputs": [
        {
          "output_type": "stream",
          "name": "stdout",
          "text": [
            "Biji Kopi yang dibeli adalah Ethiopian Coffee Beans dengan harga Rp 115000 \n",
            "Alat yang dibutuhkan untuk menyeduh kopi sendiri James membeli alat V60 dengan harga Rp 95500 \n"
          ]
        }
      ]
    },
    {
      "cell_type": "markdown",
      "source": [
        "##**Commenting**\n",
        "\n",
        "Case Study 4\n",
        "\n",
        "- Commenting merupakan sebuah komentar yang digunakan untuk memperjelas maksud dari sebuah proses ataupun sebuah perintah.\n",
        "- Apabila dijalankan commenting tidak akan melakukan eksekusi apapun.\n",
        "- Commenting diperlukan untuk mempermudah kita mengerti suatu program.\n",
        "- Commenting juga akan mempermudah orang lain yang hendak membaca program kita kelak."
      ],
      "metadata": {
        "id": "6gYlldd-0VBw"
      }
    },
    {
      "cell_type": "markdown",
      "source": [
        "**4. A**\n",
        "\n",
        "Berilah komentar pada code di bawah ini menggunakan inline comment!\n",
        "- harga_kopi = 39500\n",
        "- print(harga_kopi)"
      ],
      "metadata": {
        "id": "7-lWYcph0tkY"
      }
    },
    {
      "cell_type": "code",
      "source": [
        "harga_kopi = 39500 #menampung nilai harga kopi\n",
        "print(harga_kopi) #mengembalikan / mengeluarkan variabel harga_kopi"
      ],
      "metadata": {
        "id": "1oAhatw_01Om"
      },
      "execution_count": null,
      "outputs": []
    },
    {
      "cell_type": "markdown",
      "source": [
        "## **Error**\n",
        "\n",
        "Ketika mendapati suatu error, ada beberapa langkah yang dapat kita lakukan untuk dapat mengatasinya, yaitu:\n",
        "\n",
        "- Perhatikan error outputnya\n",
        "- Cobalah untuk googling mengenai error tersebut\n",
        "- Kemudian cobalah code yang telah digoogling sebelumnya\n",
        "-Apabila masih belum solve, cobalah untuk googling kembali\n",
        "\n"
      ],
      "metadata": {
        "id": "qRnfe56k1rUf"
      }
    },
    {
      "cell_type": "markdown",
      "source": [
        "Case Study 5\n",
        "\n",
        "Budi baru saja pulang berbelanja dan ia merasa bahwa uang yang habiskan terlalu banyak hari ini. Ia pun kemudian melist barang belanjaannya hari ini, yaitu sebagai berikut\n",
        "\n",
        "- Jaket: 250.000\n",
        "- Sepatu: 300.000\n",
        "- Tas: 200.000"
      ],
      "metadata": {
        "id": "BcPmprYg1x2n"
      }
    },
    {
      "cell_type": "markdown",
      "source": [
        "**5. A**\n",
        "\n",
        "Misalkan kita melakukan print pada harga jaket yang budi beli menggunakan perintah dibawah ini:\n",
        "\n",
        "PRINT(250000)"
      ],
      "metadata": {
        "id": "NY_qcC7Q2dRM"
      }
    },
    {
      "cell_type": "code",
      "source": [
        "PRINT(250000):"
      ],
      "metadata": {
        "colab": {
          "base_uri": "https://localhost:8080/",
          "height": 111
        },
        "id": "E-iMsxLd2jJr",
        "outputId": "4e5612e1-7641-4840-f18f-df571d44fd20"
      },
      "execution_count": 32,
      "outputs": [
        {
          "output_type": "error",
          "ename": "SyntaxError",
          "evalue": "invalid syntax (<ipython-input-32-f56a2bc9bfba>, line 1)",
          "traceback": [
            "\u001b[0;36m  File \u001b[0;32m\"<ipython-input-32-f56a2bc9bfba>\"\u001b[0;36m, line \u001b[0;32m1\u001b[0m\n\u001b[0;31m    PRINT(250000):\u001b[0m\n\u001b[0m                 ^\u001b[0m\n\u001b[0;31mSyntaxError\u001b[0m\u001b[0;31m:\u001b[0m invalid syntax\n"
          ]
        }
      ]
    },
    {
      "cell_type": "markdown",
      "source": [
        "Setelah program dijalankan, maka kita akan mengetahui error yang kita dapatkan. Dalam hal ini, error yang kita dapatkan yaitu invalid syntax. Untuk itu kita perlu memperbaiki syntax dari program yang telah kita buat."
      ],
      "metadata": {
        "id": "NtCeueyh2mMO"
      }
    },
    {
      "cell_type": "code",
      "source": [
        "print(250_000)"
      ],
      "metadata": {
        "colab": {
          "base_uri": "https://localhost:8080/"
        },
        "id": "VeSXpCcr2ce_",
        "outputId": "ded8b876-4317-42d2-e730-62281f053fee"
      },
      "execution_count": 33,
      "outputs": [
        {
          "output_type": "stream",
          "name": "stdout",
          "text": [
            "250000\n"
          ]
        }
      ]
    },
    {
      "cell_type": "markdown",
      "source": [
        "**5.B**\n",
        "\n",
        "Misalkan nama barang-barang yang telah dibeli oleh budi kita masukkan ke dalam variabel, kemudian kita lakukan print pada salah satu variabel tersebut!\n",
        "\n",
        "- jaket = 250000\n",
        "- sepatu = 300000\n",
        "- tas = 200000"
      ],
      "metadata": {
        "id": "2_On_xu52yyP"
      }
    },
    {
      "cell_type": "code",
      "source": [
        "jaket = 250000\n",
        "sepatu = 300000\n",
        "tas = 200000\n",
        "\n",
        "print(TAS)"
      ],
      "metadata": {
        "colab": {
          "base_uri": "https://localhost:8080/",
          "height": 185
        },
        "id": "Qo9PPxqa3bfG",
        "outputId": "d1384f7e-e185-473a-84cd-93430d49ea67"
      },
      "execution_count": 34,
      "outputs": [
        {
          "output_type": "error",
          "ename": "NameError",
          "evalue": "name 'TAS' is not defined",
          "traceback": [
            "\u001b[0;31m---------------------------------------------------------------------------\u001b[0m",
            "\u001b[0;31mNameError\u001b[0m                                 Traceback (most recent call last)",
            "\u001b[0;32m<ipython-input-34-3518fb4d4221>\u001b[0m in \u001b[0;36m<cell line: 0>\u001b[0;34m()\u001b[0m\n\u001b[1;32m      3\u001b[0m \u001b[0mtas\u001b[0m \u001b[0;34m=\u001b[0m \u001b[0;36m200000\u001b[0m\u001b[0;34m\u001b[0m\u001b[0;34m\u001b[0m\u001b[0m\n\u001b[1;32m      4\u001b[0m \u001b[0;34m\u001b[0m\u001b[0m\n\u001b[0;32m----> 5\u001b[0;31m \u001b[0mprint\u001b[0m\u001b[0;34m(\u001b[0m\u001b[0mTAS\u001b[0m\u001b[0;34m)\u001b[0m\u001b[0;34m\u001b[0m\u001b[0;34m\u001b[0m\u001b[0m\n\u001b[0m",
            "\u001b[0;31mNameError\u001b[0m: name 'TAS' is not defined"
          ]
        }
      ]
    },
    {
      "cell_type": "markdown",
      "source": [
        "Setelah program dijalankan, maka kita akan mengetahui error yang kita dapatkan. Dalam hal ini, error yang kita dapatkan yaitu name 'TAS' is not defined Itu artinya variabel TAS tidak pernah kita deklarasikan sebelumnya, karena yang kita deklarasikan yaitu variabel tas bukan TAS."
      ],
      "metadata": {
        "id": "FQnQOOrp3hNu"
      }
    },
    {
      "cell_type": "code",
      "source": [
        "jaket = 250000\n",
        "sepatu = 300000\n",
        "tas = 200000\n",
        "\n",
        "print(tas)"
      ],
      "metadata": {
        "colab": {
          "base_uri": "https://localhost:8080/"
        },
        "id": "FIGfo-om3jjD",
        "outputId": "a5629b03-b89e-44ca-a735-6b2b8ab8f968"
      },
      "execution_count": 35,
      "outputs": [
        {
          "output_type": "stream",
          "name": "stdout",
          "text": [
            "200000\n"
          ]
        }
      ]
    },
    {
      "cell_type": "markdown",
      "source": [
        "**5. C**\n",
        "\n",
        "Misalkan kita ingin menjalankan potongan code di bawah ini\n",
        "\n",
        "- print(\"harga jaket adalah 250.000\")\n",
        "    - print(\"harga sepatu adalah 300.000\")\n",
        "- print(\"harga tas adalah 200.000\")"
      ],
      "metadata": {
        "id": "Etjp-d1i3ZKF"
      }
    },
    {
      "cell_type": "code",
      "source": [
        "- print(\"harga jaket adalah 250.000\")\n",
        "    - print(\"harga sepatu adalah 300.000\")\n",
        "- print(\"harga tas adalah 200.000\")"
      ],
      "metadata": {
        "colab": {
          "base_uri": "https://localhost:8080/",
          "height": 111
        },
        "id": "aMvq1C6t3-Jp",
        "outputId": "3a8f5c70-9148-4f3b-e0b5-4797830e3bb2"
      },
      "execution_count": 36,
      "outputs": [
        {
          "output_type": "error",
          "ename": "IndentationError",
          "evalue": "unexpected indent (<ipython-input-36-7c316df152d5>, line 2)",
          "traceback": [
            "\u001b[0;36m  File \u001b[0;32m\"<ipython-input-36-7c316df152d5>\"\u001b[0;36m, line \u001b[0;32m2\u001b[0m\n\u001b[0;31m    - print(\"harga sepatu adalah 300.000\")\u001b[0m\n\u001b[0m    ^\u001b[0m\n\u001b[0;31mIndentationError\u001b[0m\u001b[0;31m:\u001b[0m unexpected indent\n"
          ]
        }
      ]
    },
    {
      "cell_type": "markdown",
      "source": [
        "Setelah program dijalankan, maka kita akan mengetahui error yang kita dapatkan. Dalam hal ini, error yang kita dapatkan yaitu unexpected indent. Artinya ada indent yang tidak sesuai pada program kita. Sehingga kita harus menyesuaikan indentnya."
      ],
      "metadata": {
        "id": "XH-3c90i4A4y"
      }
    },
    {
      "cell_type": "code",
      "source": [
        "print(\"harga jaket adalah 250.000\")\n",
        "print(\"harga sepatu adalah 300.000\")\n",
        "print(\"harga tas adalah 200.000\")"
      ],
      "metadata": {
        "colab": {
          "base_uri": "https://localhost:8080/"
        },
        "id": "T_rZY-Vl4DLM",
        "outputId": "eccba81a-bbe9-4ac5-f563-fa6b08de5878"
      },
      "execution_count": 37,
      "outputs": [
        {
          "output_type": "stream",
          "name": "stdout",
          "text": [
            "harga jaket adalah 250.000\n",
            "harga sepatu adalah 300.000\n",
            "harga tas adalah 200.000\n"
          ]
        }
      ]
    },
    {
      "cell_type": "markdown",
      "source": [
        "**5. D**\n",
        "Pada section Printing sempat di mention kalau ingin menampilkan atau print angka dengan jumlah yang besar kita menggunakan underscore (_).\n",
        "\n",
        "Bagaimana jika kita menggunakan titik (.) sebagai pemisah?"
      ],
      "metadata": {
        "id": "Jdpdfp-o4vtJ"
      }
    },
    {
      "cell_type": "code",
      "source": [
        "print(100.000.000)"
      ],
      "metadata": {
        "colab": {
          "base_uri": "https://localhost:8080/",
          "height": 111
        },
        "id": "rzm2PhZZ40RM",
        "outputId": "7aa247fb-211c-4470-d6f1-95af88f77eae"
      },
      "execution_count": 38,
      "outputs": [
        {
          "output_type": "error",
          "ename": "SyntaxError",
          "evalue": "invalid syntax. Perhaps you forgot a comma? (<ipython-input-38-ae4475235bac>, line 1)",
          "traceback": [
            "\u001b[0;36m  File \u001b[0;32m\"<ipython-input-38-ae4475235bac>\"\u001b[0;36m, line \u001b[0;32m1\u001b[0m\n\u001b[0;31m    print(100.000.000)\u001b[0m\n\u001b[0m          ^\u001b[0m\n\u001b[0;31mSyntaxError\u001b[0m\u001b[0;31m:\u001b[0m invalid syntax. Perhaps you forgot a comma?\n"
          ]
        }
      ]
    },
    {
      "cell_type": "code",
      "source": [
        "print(100_000_000)"
      ],
      "metadata": {
        "colab": {
          "base_uri": "https://localhost:8080/"
        },
        "id": "wOzLLBRH42aq",
        "outputId": "2d6330b2-a68e-484c-ef6e-326ff701d45c"
      },
      "execution_count": 39,
      "outputs": [
        {
          "output_type": "stream",
          "name": "stdout",
          "text": [
            "100000000\n"
          ]
        }
      ]
    }
  ]
}