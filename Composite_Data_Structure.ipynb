{
  "nbformat": 4,
  "nbformat_minor": 0,
  "metadata": {
    "colab": {
      "provenance": [],
      "toc_visible": true,
      "history_visible": true,
      "authorship_tag": "ABX9TyOTY6UnZ3dHfnb8o0bRtBtR",
      "include_colab_link": true
    },
    "kernelspec": {
      "name": "python3",
      "display_name": "Python 3"
    },
    "language_info": {
      "name": "python"
    }
  },
  "cells": [
    {
      "cell_type": "markdown",
      "metadata": {
        "id": "view-in-github",
        "colab_type": "text"
      },
      "source": [
        "<a href=\"https://colab.research.google.com/github/ariefwcks303/Basic-Python-Learn-From-Pacmann/blob/main/Composite_Data_Structure.ipynb\" target=\"_parent\"><img src=\"https://colab.research.google.com/assets/colab-badge.svg\" alt=\"Open In Colab\"/></a>"
      ]
    },
    {
      "cell_type": "markdown",
      "source": [
        "# **Composite Data Structure**"
      ],
      "metadata": {
        "id": "wbtJTiQgz1Vq"
      }
    },
    {
      "cell_type": "markdown",
      "source": [
        "##**Outline**\n",
        "\n",
        "1. Review\n",
        "2. Case 1 -- Analisa Profit\n",
        "3. Case 2 -- Gaji Karyawan Perusahaan\n",
        "4. Case 3 -- Koleksi Mainan\n",
        "5. Case 4 -- Inventori Gudang"
      ],
      "metadata": {
        "id": "dYGXbalsz1YH"
      }
    },
    {
      "cell_type": "markdown",
      "source": [
        "## **Review**"
      ],
      "metadata": {
        "id": "mmipn8jRz1aV"
      }
    },
    {
      "cell_type": "markdown",
      "source": [
        "### **1. Composite Data Structure on Python**\n",
        "\n",
        "Composite Data Structure adalah tipe data yang tersusun (composed) dari dua atau lebih tipe data primitif `(int, float, string, boolean)`\n",
        "\n",
        "Perbedaan Composite Data Structure dengan Primitive data Structure bisa anda lihat pada tabel dibawah.\n",
        "\n",
        "||Composite Data Structure|Primitive Data Structure|\n",
        "|-|-|-|\n",
        "|Struktur|dibangun dari tipe data lain|tipe data yang paling sederhana|\n",
        "|Penyimpanan|bisa menyimpan banyak tipe data | hanya menyimpan satu tipe data|\n",
        "|Contoh|`list, tuple, set, dictionary` | `integer, float, string, boolean`|"
      ],
      "metadata": {
        "id": "5pGxhYSBz1c4"
      }
    },
    {
      "cell_type": "markdown",
      "source": [
        "### **2. List**\n",
        "\n",
        "List dalam python di representasikan dengan **tanda kurung siku** `[]`. Kita bisa menyimpan tipe data apa saja didalam list seperti string, angka, atau tipe data lain.\n",
        "\n",
        "Contoh sebuah list:\n",
        "\n",
        "```python\n",
        "my_list = [1, 2, 3, 4, 5]\n",
        "```\n",
        "\n",
        "Kita bisa akses sebuah element pada list menggunakan **indexing** atau **slicing**\n",
        "\n",
        "Sebuah list memiliki sifat **mutable**, artinya kita dapat mengubah atau memodifikasi nilai dari tipe data tersebut\n",
        "\n",
        "List di python memiliki banyak method untuk mempermudah pekerjaan. Beberapa method yang sering digunakan diantaranya:\n",
        "```\n",
        "- len()\n",
        "- append()\n",
        "- insert()\n",
        "\n",
        "- in\n",
        "- index()\n",
        "- count()\n",
        "- remove()\n",
        "- pop()"
      ],
      "metadata": {
        "id": "DmmC508-z1hi"
      }
    },
    {
      "cell_type": "markdown",
      "source": [
        "### **3. Dictionary**\n",
        "\n",
        "`Dictionary` bisa dianggap sebagai pemetaan antara sebuah indeks yang disebut **keys** dan sebuah **value**. Setiap key **memetakan** ke suatu value. Hubungan key dan value ini disebut **key-value pair**.\n",
        "\n",
        "Dictionary dalam python direpresentasikan dengan **tanda kurung kurawal** `{}`\n",
        "\n",
        "Contoh pendefinisian sebuah dictionary\n",
        "\n",
        "```python\n",
        "NAMA_DICT = {key_1 : value_1, key_2 : \"value_2\", \"key_3\" : value_3}\n",
        "```\n",
        "\n",
        "Sebuah dictionary terdapat key dan value. Untuk **mengakses value** di dalamnya, kita bisa menggunakan notasi **kurung siku** `NAMA_DICT[KEY]`, mirip dengan cara kita mengakses element dalam `list` dengan kurung siku yang berisi indeks.\n",
        "\n",
        "Sebuah `dictinonary` memiliki sifat `mutable` **(bisa diubah)** dan `immutable` **(tidak bisa diubah)**. Yang bisa diubah dari dictionary adalah value-nya, namun untuk key-nya sendiri tidak dapat diubah\n",
        "\n",
        "Dictionary memiliki banyak method untuk mempermudah pekerjaan. Beberapa method yang sering digunakan diantaranya:\n",
        "```\n",
        "- len()\n",
        "- get()\n",
        "- keys()\n",
        "- values()\n",
        "- pop()\n",
        "- update()\n",
        "- copy()\n",
        "- clear()"
      ],
      "metadata": {
        "id": "8ZKiqDiOz1j-"
      }
    },
    {
      "cell_type": "markdown",
      "source": [
        "### **4. Tuple**\n",
        "\n",
        "Tuple sangat mirip dengan list, perbedaan pentingnya adalah tuple tidak dapat diubah (immutable)\n",
        "\n",
        "tuple dalam python di representasikan dengan tanda kurung () dan elementnya dipisahkan oleh tanda koma ,\n",
        "\n",
        "Contoh sebuah tuple:\n",
        "```python\n",
        "my_typle = (\"Apel\", \"Jeruk\", \"Mangga\")\n",
        "```\n",
        "\n",
        "Kita tetap bisa melakukan **indexing** dan **slicing** seperti pada List, Namun kita tidak bisa mengubah element pada tuple karena sifatnya immutable.\n",
        "\n",
        "Beberapa method pada tuple:\n",
        "\n",
        "\n",
        "```\n",
        "- len()\n",
        "- in\n",
        "- index()\n",
        "- count()\n",
        "+\n",
        "```"
      ],
      "metadata": {
        "id": "Zr9kshUJz1mR"
      }
    },
    {
      "cell_type": "markdown",
      "source": [
        "### **5. Set**\n",
        "\n",
        "Set adalah sebuah struktur data yang memungkinkan kita untuk menyimpan sebuah data dengan tidak berurutan (unordered) dan setiap element di dalam set adalah Unik (tidak boleh ada duplikat).\n",
        "\n",
        "Sebuah `set` dalam python di representasikan dengan **tanda kurung kurawal** `{}` dan dipisahkan oleh **tanda koma** `,`\n",
        "\n",
        "Contoh sebuah tuple:\n",
        "```python\n",
        "my_set = {'Kecapung', 'Bunglon', 'Komodo'}\n",
        "```\n",
        "\n",
        "Set sendiri merupakan tipe data yang bisa diubah **(mutable)**, namun **element** pada set tidak bisa dimodifikasi atau di ubah (immutable)\n",
        "\n",
        "Set juga memiliki beberapa method untuk memudahkan dalam pekerjaan, seperti:\n",
        "\n",
        "\n",
        "```\n",
        "- len()\n",
        "- in\n",
        "- add()\n",
        "- update()\n",
        "- discard()\n",
        "- union()\n",
        "- intersection()\n",
        "```"
      ],
      "metadata": {
        "id": "0ELQhtfdz1pG"
      }
    },
    {
      "cell_type": "markdown",
      "source": [
        "## **Case Study 1: Analisa Profit**"
      ],
      "metadata": {
        "id": "YsctMZiwz1rn"
      }
    },
    {
      "cell_type": "markdown",
      "source": [
        "Sebagai data analis sebuah perusahaan, anda diperintahkan oleh atasan untuk menganalisa profit yang didapatkan selama satu tahun. Data profit perusahaan disajikan dalam bentuk setiap bulan seperti pada tabel berikut:\n",
        "\n",
        "|Bulan|Profit|\n",
        "|-|-|\n",
        "|Januari|192.400.000|\n",
        "|Februari|231.600.000|\n",
        "|Maret|282.600.000|\n",
        "|April|259.800.000|\n",
        "|Mei|255.600.000|\n",
        "|Juni|241.800.000|\n",
        "|Juli|265.200.000|\n",
        "|Agustus|234.600.000|\n",
        "|September|210.200.000|\n",
        "|Oktober|180.200.000|\n",
        "|November|200.800.000|\n",
        "|Desember|202.400.000|"
      ],
      "metadata": {
        "id": "RQAFCLmyz1uL"
      }
    },
    {
      "cell_type": "markdown",
      "source": [
        "### **1A**.\n",
        "Buatlah sebuah list yang menampung hanya profitnya saja dari data tersebut!"
      ],
      "metadata": {
        "id": "7l5IyAffz1w2"
      }
    },
    {
      "cell_type": "code",
      "source": [
        "profit = [192400000, 231600000, 252600000, 259800000, 255600000, 241800000,\n",
        "          255200000, 234600000, 210200000, 180200000, 200800000, 202400000]\n",
        "print(profit)"
      ],
      "metadata": {
        "colab": {
          "base_uri": "https://localhost:8080/"
        },
        "id": "25nOZVcZJo-i",
        "outputId": "be97c34d-fbfb-4943-d2ea-5d2142887cdf"
      },
      "execution_count": 1,
      "outputs": [
        {
          "output_type": "stream",
          "name": "stdout",
          "text": [
            "[192400000, 231600000, 252600000, 259800000, 255600000, 241800000, 255200000, 234600000, 210200000, 180200000, 200800000, 202400000]\n"
          ]
        }
      ]
    },
    {
      "cell_type": "markdown",
      "source": [
        "### **1B**.\n",
        "\n",
        "Carilah rata-rata profit selama 1 tahun.\n",
        "\n",
        "\n",
        "```\n",
        "Keterangan :\n",
        " - gunakan sum() untuk menjumlahkan semua nilai di dalam list\n",
        " - pakai len() untuk mengetahui panjang list\n",
        " - hasil perhitungan bulatkan 2 angka dibelakang koma\n",
        "```\n",
        "\n"
      ],
      "metadata": {
        "id": "m3kiUe5BJhaW"
      }
    },
    {
      "cell_type": "code",
      "source": [
        "sum_profit = sum(profit)\n",
        "print(sum_profit)\n",
        "\n",
        "len_profit = len(profit)\n",
        "print(len_profit)\n",
        "\n",
        "avg_profit = sum_profit/len_profit\n",
        "print(f'rata-rata profit perbulan adalah {avg_profit:.2f}')"
      ],
      "metadata": {
        "colab": {
          "base_uri": "https://localhost:8080/"
        },
        "id": "qipXhhQqJuYw",
        "outputId": "7951fb55-3640-4b3a-8c92-734bb24ec536"
      },
      "execution_count": 7,
      "outputs": [
        {
          "output_type": "stream",
          "name": "stdout",
          "text": [
            "2717200000\n",
            "12\n",
            "rata-rata profit perbulan adalah 226433333.33\n"
          ]
        }
      ]
    },
    {
      "cell_type": "markdown",
      "source": [
        "### **1C**.\n",
        "\n",
        "Berapakah profit terbesar yang pernah diperoleh ?\n",
        "\n",
        "```\n",
        "Keterangan:\n",
        "- Gunakan method max() pada list\n",
        "```"
      ],
      "metadata": {
        "id": "SK3VwixUJhdM"
      }
    },
    {
      "cell_type": "code",
      "source": [
        "max_profit = max(profit)\n",
        "print(f'profit terbesar yang didapatkan adalah Rp {max_profit}')"
      ],
      "metadata": {
        "colab": {
          "base_uri": "https://localhost:8080/"
        },
        "id": "b2_PqoLKJ2V-",
        "outputId": "ce21a1f4-8a1d-45c8-88d7-dbd42ed15db2"
      },
      "execution_count": 12,
      "outputs": [
        {
          "output_type": "stream",
          "name": "stdout",
          "text": [
            "profit terbesar yang didapatkan adalah Rp 259800000\n"
          ]
        }
      ]
    },
    {
      "cell_type": "markdown",
      "source": [
        "### **1D**.\n",
        "Berapakah profit terkecil yang pernah diperoleh ?\n",
        "\n",
        "```\n",
        "Keterangan:\n",
        "- Gunakan method min() pada list\n",
        "```"
      ],
      "metadata": {
        "id": "dRWkgxAkJhf5"
      }
    },
    {
      "cell_type": "code",
      "source": [
        "min_profit = min(profit)\n",
        "print(f'profit terkecil yang didapatkan adalah Rp {min_profit}')"
      ],
      "metadata": {
        "colab": {
          "base_uri": "https://localhost:8080/"
        },
        "id": "mh-Hccu7UXim",
        "outputId": "1784b5b6-303f-48cc-c8b1-dfd5e47b2aa5"
      },
      "execution_count": 13,
      "outputs": [
        {
          "output_type": "stream",
          "name": "stdout",
          "text": [
            "profit terbesar yang didapatkan adalah Rp 180200000\n"
          ]
        }
      ]
    },
    {
      "cell_type": "markdown",
      "source": [
        "### **1E**.  \n",
        "Carilah rata-rata profit 6 bulan pertama (Januari - Juni) dan 6 bulan kedua (Juli - Desember)\n",
        "\n",
        "```\n",
        "Keterangan:\n",
        "- Gunakan method sum() dan len()\n",
        "- bulatkan 2 angka di belakang koma\n",
        "```"
      ],
      "metadata": {
        "id": "op6fPcaAJhij"
      }
    },
    {
      "cell_type": "code",
      "source": [
        "profit_1 = profit[0:6]\n",
        "len_profit_1 = len(profit_1)\n",
        "sum_profit_1 = sum(profit_1)\n",
        "avg_profit_1 = sum_profit_1/len_profit_1\n",
        "print(f'rata-rata profit 6 bulan pertama adalah Rp {avg_profit_1:.2f}')\n",
        "\n",
        "\n",
        "profit_2 = profit[6:12]\n",
        "len_profit_2 = len(profit_2)\n",
        "sum_profit_2 = sum(profit_2)\n",
        "avg_profit_2 = sum_profit_2/len_profit_2\n",
        "print(f'rata-rata profit 6 bulan kedua adalah Rp {avg_profit_2:.2f}')\n"
      ],
      "metadata": {
        "colab": {
          "base_uri": "https://localhost:8080/"
        },
        "id": "8vezwxr2UW-A",
        "outputId": "f75613b2-c84a-42d4-920c-9babf3f26e38"
      },
      "execution_count": 17,
      "outputs": [
        {
          "output_type": "stream",
          "name": "stdout",
          "text": [
            "rata-rata profit 6 bulan pertama adalah Rp 238966666.67\n",
            "rata-rata profit 6 bulan kedua adalah Rp 213900000.00\n"
          ]
        }
      ]
    },
    {
      "cell_type": "markdown",
      "source": [
        "## **Case Study 2: Gaji Karyawan Perusahaan**"
      ],
      "metadata": {
        "id": "mHRqsxMEJhlD"
      }
    },
    {
      "cell_type": "markdown",
      "source": [
        "Karyawan Perusahaan T memiliki gaji sebagai berikut\n",
        "\n",
        "|Nama Karyawan | Gaji|\n",
        "|-|-|\n",
        "|Wawan | 4.500.000|\n",
        "|Dilla | 4.000.000|\n",
        "|Leo | 4.000.000|\n",
        "|Ayu| 3.500.000|\n",
        "|Lutfi | 3.200.000|"
      ],
      "metadata": {
        "id": "zW-SsdHmJhtW"
      }
    },
    {
      "cell_type": "markdown",
      "source": [
        "### **2A**.  \n",
        "Buatlah sebuah dictionary untuk menyimpan nama dan gaji karyawan Perusahaan T.\n",
        "```\n",
        "Keterangan:\n",
        " - bentuk dictionary = {nama_karyawan:gaji}\n",
        "```"
      ],
      "metadata": {
        "id": "_Q96OPXjJhzm"
      }
    },
    {
      "cell_type": "code",
      "source": [
        "karyawan = {'Wawan':450000, 'Dilla':4000000, 'Leo':4000000, 'Ayu':3500000,   'Lutfi':3200000}\n",
        "print(gaji_karyawan)\n",
        "\n",
        "print(f'Gaji Wawan sebesar Rp {karyawan[\"Wawan\"]}')\n",
        "print(f'Gaji Dilla sebesar Rp {karyawan[\"Dilla\"]}')\n",
        "print(f'Gaji Leo sebesar Rp {karyawan[\"Leo\"]}')\n",
        "print(f'Gaji Ayu sebesar Rp {karyawan[\"Ayu\"]}')\n",
        "print(f'Gaji Lutfi sebesar Rp {karyawan[\"Lutfi\"]}')"
      ],
      "metadata": {
        "colab": {
          "base_uri": "https://localhost:8080/"
        },
        "id": "2wyGp2BwUVZ8",
        "outputId": "5dfbdea3-059b-4a1e-d97e-fd1eef93c49b"
      },
      "execution_count": 22,
      "outputs": [
        {
          "output_type": "stream",
          "name": "stdout",
          "text": [
            "{'Wawan': 450000, 'Dilla': 4000000, 'Leo': 4000000, 'Ayu': 3500000, 'Lutfi': 3200000, 'Ezra': 3200000, 'Ricardo': 3200000, 'Samsul': 3500000}\n",
            "Gaji Wawan sebesar Rp 450000\n",
            "Gaji Dilla sebesar Rp 4000000\n",
            "Gaji Leo sebesar Rp 4000000\n",
            "Gaji Ayu sebesar Rp 3500000\n",
            "Gaji Lutfi sebesar Rp 3200000\n"
          ]
        }
      ]
    },
    {
      "cell_type": "markdown",
      "source": [
        "### **2B**.  \n",
        "\n",
        "Karena perusahaan T merasa kekurangan karyawan, Pimpinan akan merekrut tiga karyawan baru. Tiga karyawan tersebut adalah\n",
        "\n",
        "|Nama|Gaji|\n",
        "|-|-|\n",
        "|Ezra|3.200.000|\n",
        "|Ricardo|3.200.000|\n",
        "|Samsul|3.500.000|"
      ],
      "metadata": {
        "id": "BoYBfuS5T1pl"
      }
    },
    {
      "cell_type": "markdown",
      "source": [
        "Masukkan tiga karyawan baru tersebut ke dalam variabel dict yang sudah anda buat di soal nomor 2A tadi!\n",
        "\n",
        "```\n",
        "Keterangan:\n",
        "- Gunakan method update()\n",
        "```\n"
      ],
      "metadata": {
        "id": "nu2Aw1DKT8kQ"
      }
    },
    {
      "cell_type": "code",
      "source": [
        "karyawan_baru = {'Ezra':3200000, 'Ricardo':3200000, 'Samsul':3500000}\n",
        "karyawan.update(karyawan_baru)\n",
        "print(karyawan)"
      ],
      "metadata": {
        "colab": {
          "base_uri": "https://localhost:8080/"
        },
        "id": "aaAGKUloUUhA",
        "outputId": "bb658c34-cb5b-413d-a5f5-18a881d58b72"
      },
      "execution_count": 24,
      "outputs": [
        {
          "output_type": "stream",
          "name": "stdout",
          "text": [
            "{'Wawan': 450000, 'Dilla': 4000000, 'Leo': 4000000, 'Ayu': 3500000, 'Lutfi': 3200000, 'Ezra': 3200000, 'Ricardo': 3200000, 'Samsul': 3500000}\n"
          ]
        }
      ]
    },
    {
      "cell_type": "markdown",
      "source": [
        "### **2C**\n",
        "Leo dipromosikan jabatannya menjadi lebih tinggi karena pekerjaanya yang bagus. Gaji Leo naik menjadi 7.500.000."
      ],
      "metadata": {
        "id": "rCydgOE7T1yh"
      }
    },
    {
      "cell_type": "code",
      "source": [
        "karyawan['Leo'] = 7500000\n",
        "\n",
        "\n",
        "print(f'Gaji leo sekarang adalah Rp {karyawan[\"Leo\"]}')"
      ],
      "metadata": {
        "colab": {
          "base_uri": "https://localhost:8080/"
        },
        "id": "825IufUNUT-w",
        "outputId": "a2776116-a666-4a8e-bdee-511ea788c995"
      },
      "execution_count": 27,
      "outputs": [
        {
          "output_type": "stream",
          "name": "stdout",
          "text": [
            "Gaji leo sekarang adalah Rp 7500000\n"
          ]
        }
      ]
    },
    {
      "cell_type": "markdown",
      "source": [
        "## **Case Study 3: Koleksi Mainan**"
      ],
      "metadata": {
        "id": "jmKIVAprT11l"
      }
    },
    {
      "cell_type": "markdown",
      "source": [
        "Rizki memiliki sebuah koleksi mainan berbentuk hewan yang banyak. Dia memindahkan mainannya ke kardus baru, karena kardus yang lama sudah rusak. Urutan mainan hewan yang dipindahkan adalah seperti berikut.\n",
        "\n",
        "\n",
        "```\n",
        "kuda, anjing, kucing, gajah, kucing, burung, ular, ayam, bebek, jerapah, macan, anjing, burung, kelinci\n",
        "```"
      ],
      "metadata": {
        "id": "coBDkHM3T17A"
      }
    },
    {
      "cell_type": "markdown",
      "source": [
        "### **3A**.\n",
        "Buatlah sebuah tuple untuk menyimpan mainan hewan Rizki"
      ],
      "metadata": {
        "id": "ILSGlRMdT193"
      }
    },
    {
      "cell_type": "code",
      "source": [
        "mainan = ('kuda', 'anjing', 'kucing', 'gajah',\n",
        "         'kucing', 'burung','ular', 'ayam',\n",
        "         'bebek', 'jerapah', 'macan', 'anjing', 'burung', 'kelinci')\n"
      ],
      "metadata": {
        "id": "ekMK7_UfUwcz"
      },
      "execution_count": 32,
      "outputs": []
    },
    {
      "cell_type": "markdown",
      "source": [
        "### **3B**.\n",
        "Saat memasukkan ke dalam kardus baru Rizki sadar bahwa ada mainan hewan yang jumlahnya lebih dari satu.\n",
        "\n",
        "Dengan fungsi `input()` coba munculkan banyak hewan tertentu yang dimiliki Rizki!\n",
        "\n",
        "```\n",
        "Keterangan\n",
        "Misalkan kita ketik mainan hewan kelinci\n",
        "akan muncul jumlah mainan tersebut\n",
        "```"
      ],
      "metadata": {
        "id": "piO1AI_qT2Ae"
      }
    },
    {
      "cell_type": "code",
      "source": [
        "hewan = input(\"Masukan mainan hewan yang ingin diketahui jumlahnya : \")\n",
        "banyak_hewan = mainan.count(hewan)\n",
        "print(f'Jumlah mainan hewan {hewan} adalah {banyak_hewan}')"
      ],
      "metadata": {
        "colab": {
          "base_uri": "https://localhost:8080/"
        },
        "id": "ErxE6vuzU8EH",
        "outputId": "d5795b6c-7de1-497c-a851-e137d8bb5244"
      },
      "execution_count": 36,
      "outputs": [
        {
          "output_type": "stream",
          "name": "stdout",
          "text": [
            "Masukan mainan hewan yang ingin diketahui jumlahnya : kuda\n",
            "Jumlah mainan hewan kuda adalah 1\n"
          ]
        }
      ]
    },
    {
      "cell_type": "markdown",
      "source": [],
      "metadata": {
        "id": "6hooibdaYNeu"
      }
    },
    {
      "cell_type": "markdown",
      "source": [
        "## **Case Study 4: Inventori Gudang**\n",
        "\n",
        "\n"
      ],
      "metadata": {
        "id": "e1Umpa6_T2DE"
      }
    },
    {
      "cell_type": "markdown",
      "source": [
        "Perusahaan Z memiliki dua gudang yang digunakan untuk menyimpan barang yang telah selesai di produksi. Pak Handoko selaku pimpinan perusahaan menyuruh data analis di perusahaannya untuk menganalisis barang-barang yang ada di gudang tersebut.\n",
        "\n",
        "```\n",
        "Gudang satu memiliki barang dengan kode K090 K121 K890 K998 K541\n",
        "\n",
        "Gudang dua memiliki barang dengan kode K090 K143 K776 K998 K797\n",
        "```"
      ],
      "metadata": {
        "id": "Vl8kfs_yU8uC"
      }
    },
    {
      "cell_type": "markdown",
      "source": [
        "### 4A.  \n",
        "Buatlah set untuk menyimpan kode barang yang ada di dua gudang tersebut."
      ],
      "metadata": {
        "id": "STnjP0NCU8mG"
      }
    },
    {
      "cell_type": "code",
      "source": [
        "G1 = {'K090', 'K121', 'K890', 'K998', 'K541'}\n",
        "G2 = {'K090', 'K143', 'K776', 'K998', 'K797'}"
      ],
      "metadata": {
        "id": "2Gt579BeVj7V"
      },
      "execution_count": 38,
      "outputs": []
    },
    {
      "cell_type": "markdown",
      "source": [
        "### 4B.  \n",
        "\n",
        "Coba gabungkan inventori pada gudang satu dan dua\n",
        "\n",
        "```\n",
        "Keterangan:\n",
        " - gunakan method union()\n",
        "```"
      ],
      "metadata": {
        "id": "UBJycSmWU8rb"
      }
    },
    {
      "cell_type": "code",
      "source": [
        "G_Utama = G1.union(G2)\n",
        "print(G_Utama)"
      ],
      "metadata": {
        "colab": {
          "base_uri": "https://localhost:8080/"
        },
        "id": "LDL0Nz4gVpzR",
        "outputId": "52a07e22-7f0a-4f8d-9dee-94fc4eaa53fa"
      },
      "execution_count": 39,
      "outputs": [
        {
          "output_type": "stream",
          "name": "stdout",
          "text": [
            "{'K143', 'K776', 'K890', 'K121', 'K797', 'K541', 'K998', 'K090'}\n"
          ]
        }
      ]
    },
    {
      "cell_type": "markdown",
      "source": [
        "### **4C**\n",
        "Pak Handoko ingin tahu kode barang apa saja yang disimpan di gudang satu namun juga disimpan di gudang dua.\n",
        "\n",
        "\n",
        "```\n",
        "Keterangan:\n",
        "- gunakan method intersection()\n",
        "```\n"
      ],
      "metadata": {
        "id": "UPS2vtHGU8ou"
      }
    },
    {
      "cell_type": "code",
      "source": [
        "G_Utama_int = G1.intersection(G2)\n",
        "print(f'Kode barang yang disimpan di dua gudang sekaligus adalah : {G_Utama_int} ')"
      ],
      "metadata": {
        "colab": {
          "base_uri": "https://localhost:8080/"
        },
        "id": "SDJuCsW6VtX8",
        "outputId": "cedaa481-7cd6-4cd7-917a-3d5f8f53f17d"
      },
      "execution_count": 43,
      "outputs": [
        {
          "output_type": "stream",
          "name": "stdout",
          "text": [
            "Kode barang yang disimpan di dua gudang sekaligus adalah : {'K090', 'K998'} \n"
          ]
        }
      ]
    },
    {
      "cell_type": "markdown",
      "source": [],
      "metadata": {
        "id": "gJjcsSQTU8jM"
      }
    },
    {
      "cell_type": "markdown",
      "source": [],
      "metadata": {
        "id": "OPR39DkOT2F1"
      }
    }
  ]
}